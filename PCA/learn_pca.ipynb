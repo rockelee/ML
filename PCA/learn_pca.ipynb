{
 "cells": [
  {
   "cell_type": "code",
   "execution_count": null,
   "metadata": {
    "collapsed": true
   },
   "outputs": [],
   "source": [
    "%matplotlib inline\n",
    "import numpy as np\n",
    "import matplotlib.pyplot as plt"
   ]
  },
  {
   "cell_type": "code",
   "execution_count": null,
   "metadata": {
    "collapsed": false
   },
   "outputs": [],
   "source": [
    "def loadDataSet(fileName, delim= '\\t'):\n",
    "    fr = open(fileName)\n",
    "    stringArr = [line.strip().split(delim) for line in fr.readlines()]\n",
    "    #print stringArr[0]\n",
    "    #a = map(float, stringArr[0])\n",
    "    #print a, type(a)\n",
    "    dataArr = [map(float, line) for line in stringArr]\n",
    "    return np.array(dataArr)\n",
    "\n",
    "def pca(dataArr, topNfeat = 9999999):\n",
    "    m,n = dataArr.shape\n",
    "    meanVals = np.mean(dataArr, axis = 0)\n",
    "    meanRemoved = dataArr - meanVals  # meanRemoved的每一行是一个样本，所以rowvar要为false\n",
    "    covMat = np.cov(meanRemoved, rowvar = 0)\n",
    "    eigVals, eigVects = np.linalg.eig(covMat)\n",
    "    eigValInd = np.argsort(eigVals) \n",
    "    eigValInd = eigValInd[-(topNfeat+1):-1]\n",
    "    redEigVects = eigVects[:, eigValInd]\n",
    "    lowDDataMat = np.dot(meanRemoved, redEigVects)\n",
    "    reconMat = np.dot(lowDDataMat, redEigVects.T) + meanVals\n",
    "    return lowDDataMat, reconMat\n",
    "    \n"
   ]
  },
  {
   "cell_type": "code",
   "execution_count": null,
   "metadata": {
    "collapsed": false
   },
   "outputs": [],
   "source": [
    "dataArr = loadDataSet('testSet.txt')\n",
    "lowDDataMat, reconMat = pca(dataArr, 1)\n",
    "plt.figure()\n",
    "plt.plot(dataArr[:, 0], dataArr[:, 1],'o')\n",
    "plt.show()\n",
    "\n",
    "lowDDataMat1, reconMat1 = pca(dataArr, 2)\n",
    "plt.figure()\n",
    "plt.plot(reconMat1[:, 0], reconMat1[:, 1],'o')\n",
    "plt.show()"
   ]
  },
  {
   "cell_type": "code",
   "execution_count": null,
   "metadata": {
    "collapsed": true
   },
   "outputs": [],
   "source": [
    "def replaceNanWithMean():\n",
    "    dataArr = loadDataSet('secom.data', ' ')\n",
    "    m, n = dataArr.shape\n",
    "    for i in range(n):\n",
    "        #meanVal = np.mean( dataArr[np.nonzero( ~np.isnan(dataArr[:, i]) )[0], i] )\n",
    "        #dataArr[np.nonzero(np.isnan(dataArr[:, i]))[0], i] = meanVal\n",
    "        meanVal = np.mean( dataArr[ ~np.isnan(dataArr[:, i]), i] )\n",
    "        dataArr[ np.isnan(dataArr[:, i]), i] = meanVal\n",
    "    return dataArr"
   ]
  },
  {
   "cell_type": "code",
   "execution_count": null,
   "metadata": {
    "collapsed": false
   },
   "outputs": [],
   "source": [
    "dataArr = replaceNanWithMean()"
   ]
  },
  {
   "cell_type": "code",
   "execution_count": null,
   "metadata": {
    "collapsed": false
   },
   "outputs": [],
   "source": [
    "meanVals = np.mean(dataArr, axis = 0)\n",
    "meanRemoved = dataArr - meanVals\n",
    "covMat = np.cov(meanRemoved, rowvar = 0)\n",
    "eigVals, eigVects = np.linalg.eig(covMat)"
   ]
  },
  {
   "cell_type": "code",
   "execution_count": null,
   "metadata": {
    "collapsed": false
   },
   "outputs": [],
   "source": [
    "################################"
   ]
  },
  {
   "cell_type": "code",
   "execution_count": 39,
   "metadata": {
    "collapsed": true
   },
   "outputs": [],
   "source": [
    "\n"
   ]
  },
  {
   "cell_type": "code",
   "execution_count": null,
   "metadata": {
    "collapsed": true
   },
   "outputs": [],
   "source": []
  }
 ],
 "metadata": {
  "kernelspec": {
   "display_name": "Python 2",
   "language": "python",
   "name": "python2"
  },
  "language_info": {
   "codemirror_mode": {
    "name": "ipython",
    "version": 2
   },
   "file_extension": ".py",
   "mimetype": "text/x-python",
   "name": "python",
   "nbconvert_exporter": "python",
   "pygments_lexer": "ipython2",
   "version": "2.7.8"
  }
 },
 "nbformat": 4,
 "nbformat_minor": 0
}
