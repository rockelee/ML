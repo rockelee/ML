{
 "cells": [
  {
   "cell_type": "code",
   "execution_count": 2,
   "metadata": {
    "collapsed": false
   },
   "outputs": [],
   "source": [
    "%matplotlib inline\n",
    "import numpy as np\n",
    "import pandas as pd\n",
    "import matplotlib.pyplot as plt\n",
    "from matplotlib.colors import ListedColormap\n",
    "from sklearn import neighbors, datasets\n",
    "import pdb\n",
    "import tensorflow as tf"
   ]
  },
  {
   "cell_type": "code",
   "execution_count": 3,
   "metadata": {
    "collapsed": true
   },
   "outputs": [],
   "source": [
    "##############################################################\n",
    "#my adaboost"
   ]
  },
  {
   "cell_type": "code",
   "execution_count": 2,
   "metadata": {
    "collapsed": true
   },
   "outputs": [],
   "source": [
    "x = np.array([0, 1, 2, 3, 4, 5, 6, 7, 8, 9])\n",
    "y = np.array([1, 1, 1, -1, -1, -1, 1, 1, 1 ,-1])"
   ]
  },
  {
   "cell_type": "code",
   "execution_count": 87,
   "metadata": {
    "collapsed": false
   },
   "outputs": [],
   "source": [
    "class AdaBoost(object):\n",
    "    def __init__(self):\n",
    "        self.f = []\n",
    "        pass\n",
    "    \n",
    "    def train(self, xtrain, ytrain, numIt = 3):\n",
    "        xtrain = xtrain.astype(np.float)\n",
    "        ytrain = ytrain.astype(np.float)\n",
    "        f_err = np.inf\n",
    "        w = np.ones(xtrain.shape[0]) / xtrain.shape[0]\n",
    "        i = 0\n",
    "        while i < numIt:\n",
    "            # 求弱分类器，以及弱分类器的错误率，和结果\n",
    "            weak_classifier, err, weak_result = self.get_weak_classifier(xtrain, ytrain, w)\n",
    "            # 求弱分类器的权重\n",
    "            alpha = 1.0 / 2.0 * np.log((1-err)/err)\n",
    "            # 更新权值分布\n",
    "            w = self.update_w(ytrain, weak_result, alpha, w)\n",
    "            # 求强分类器，以及强分类器的误分类数和结果\n",
    "            self.f.append({'alpha':alpha, 'weak_classifier':weak_classifier})\n",
    "            f_err, f_result = self.pred_strong_classifier(xtrain, ytrain)\n",
    "            \n",
    "            i = 1 + i\n",
    "            \n",
    "    def update_w(self, ytrain, weak_result, alpha, w):\n",
    "        w = w * np.exp(-1.0 * alpha * ytrain * weak_result)\n",
    "        w = w / w.sum()\n",
    "        return w\n",
    "            \n",
    "    def get_weak_classifier(self, xtrain, ytrain, w):\n",
    "        #这里的弱分类有 x > v 和 x < v 产生\n",
    "        weak_classifier = {'left':None, 'right':None, 'val':None, 'w': w, 'err':None}\n",
    "        min_err = np.inf\n",
    "#         best_split = None\n",
    "        for xx in np.unique(xtrain):\n",
    "            left_y = ytrain[xtrain <= xx]\n",
    "            left_weight = w[xtrain <= xx]\n",
    "            left_err = ((left_y != 1).astype(np.float) * left_weight).sum()\n",
    "            right_y = ytrain[xtrain > xx]\n",
    "            right_weight = w[xtrain > xx]\n",
    "            right_err = ((right_y != -1).astype(np.float) * right_weight).sum()\n",
    "            err = left_err + right_err\n",
    "            if err < min_err:\n",
    "                min_err = err\n",
    "                #best_split = xx\n",
    "                weak_classifier['val'] = xx\n",
    "                weak_classifier['left'] = 1\n",
    "                weak_classifier['right'] = -1\n",
    "                weak_classifier['err'] = min_err\n",
    "                \n",
    "            left_y = ytrain[xtrain <= xx]\n",
    "            left_weight = w[xtrain <= xx]\n",
    "            left_err = ((left_y != -1).astype(np.float) * left_weight).sum()\n",
    "            right_y = ytrain[xtrain > xx]\n",
    "            right_weight = w[xtrain > xx]\n",
    "            right_err = ((right_y != 1).astype(np.float) * right_weight).sum()\n",
    "            err = left_err + right_err\n",
    "            if err < min_err:\n",
    "                min_err = err\n",
    "#                 best_split = xx\n",
    "                weak_classifier['val'] = xx\n",
    "                weak_classifier['left'] = -1\n",
    "                weak_classifier['right'] = 1\n",
    "                weak_classifier['err'] = min_err\n",
    "        result = self.pred_weak_classifier(xtrain, ytrain, weak_classifier)\n",
    "        weak_classifier['result'] = result\n",
    "        return weak_classifier, min_err, result\n",
    "        pass\n",
    "    \n",
    "    def pred_weak_classifier(self, xtrain, ytrain, weak_classifier):\n",
    "        result = []\n",
    "        for xx in xtrain:\n",
    "            if xx <= weak_classifier['val']:\n",
    "                result.append(weak_classifier['left'])\n",
    "            else:\n",
    "                result.append(weak_classifier['right'])\n",
    "#         result = [ for i in xtrain <= weak_classifier['val'] if i ]\n",
    "        return result\n",
    "        pass\n",
    "    \n",
    "    def pred_strong_classifier(self, xtrain, ytrain):\n",
    "        f_err = 0\n",
    "        f_result = []\n",
    "        for xx, yy in zip(xtrain, ytrain):\n",
    "            f_xx = 0.0\n",
    "            for G in self.f:\n",
    "                if xx <= G['weak_classifier']['val']:\n",
    "                    f_xx = f_xx + G['alpha'] * G['weak_classifier']['left']\n",
    "                else:\n",
    "                    f_xx = f_xx + G['alpha'] * G['weak_classifier']['right']\n",
    "            f_result.append(np.sign(f_xx))\n",
    "            if f_xx * yy < 0:\n",
    "                f_err  = f_err + 1\n",
    "        return f_err, f_result\n",
    "        pass\n",
    "    \n",
    "    def predict(self, xtest):\n",
    "        f_xx = 0.0\n",
    "        for G in self.f:\n",
    "            if xtest <= G['weak_classifier']['val']:\n",
    "                f_xx = f_xx + G['alpha'] * G['weak_classifier']['left']\n",
    "            else:\n",
    "                f_xx = f_xx + G['alpha'] * G['weak_classifier']['right']\n",
    "        return np.sign(f_xx)"
   ]
  },
  {
   "cell_type": "code",
   "execution_count": 89,
   "metadata": {
    "collapsed": false
   },
   "outputs": [
    {
     "data": {
      "text/plain": [
       "[{'alpha': 0.42364893019360172,\n",
       "  'weak_classifier': {'err': 0.30000000000000004,\n",
       "   'left': 1,\n",
       "   'result': [1, 1, 1, -1, -1, -1, -1, -1, -1, -1],\n",
       "   'right': -1,\n",
       "   'val': 2.0,\n",
       "   'w': array([ 0.1,  0.1,  0.1,  0.1,  0.1,  0.1,  0.1,  0.1,  0.1,  0.1])}},\n",
       " {'alpha': 0.64964149206513044,\n",
       "  'weak_classifier': {'err': 0.21428571428571427,\n",
       "   'left': 1,\n",
       "   'result': [1, 1, 1, 1, 1, 1, 1, 1, 1, -1],\n",
       "   'right': -1,\n",
       "   'val': 8.0,\n",
       "   'w': array([ 0.07142857,  0.07142857,  0.07142857,  0.07142857,  0.07142857,\n",
       "           0.07142857,  0.16666667,  0.16666667,  0.16666667,  0.07142857])}},\n",
       " {'alpha': 0.75203869838813697,\n",
       "  'weak_classifier': {'err': 0.18181818181818185,\n",
       "   'left': -1,\n",
       "   'result': [-1, -1, -1, -1, -1, -1, 1, 1, 1, 1],\n",
       "   'right': 1,\n",
       "   'val': 5.0,\n",
       "   'w': array([ 0.04545455,  0.04545455,  0.04545455,  0.16666667,  0.16666667,\n",
       "           0.16666667,  0.10606061,  0.10606061,  0.10606061,  0.04545455])}}]"
      ]
     },
     "execution_count": 89,
     "metadata": {},
     "output_type": "execute_result"
    }
   ],
   "source": [
    "ada_clf = AdaBoost()\n",
    "ada_clf.train(x, y, 3)\n",
    "ada_clf.f"
   ]
  },
  {
   "cell_type": "code",
   "execution_count": 76,
   "metadata": {
    "collapsed": false
   },
   "outputs": [
    {
     "data": {
      "text/plain": [
       "1.0"
      ]
     },
     "execution_count": 76,
     "metadata": {},
     "output_type": "execute_result"
    }
   ],
   "source": [
    "ada_clf.predict(5.01)"
   ]
  },
  {
   "cell_type": "code",
   "execution_count": 4,
   "metadata": {
    "collapsed": true
   },
   "outputs": [],
   "source": [
    "##############################################################"
   ]
  },
  {
   "cell_type": "code",
   "execution_count": 1,
   "metadata": {
    "collapsed": true
   },
   "outputs": [],
   "source": [
    "##############################################################\n",
    "#my cart"
   ]
  },
  {
   "cell_type": "code",
   "execution_count": 7,
   "metadata": {
    "collapsed": true
   },
   "outputs": [],
   "source": [
    "x=np.array([  \n",
    "[0,0,0,0,8],  \n",
    "[0,0,0,1,3.5],  \n",
    "[0,1,0,1,3.5],  \n",
    "[0,1,1,0,3.5],  \n",
    "[0,0,0,0,3.5],  \n",
    "[1,0,0,0,3.5],  \n",
    "[1,0,0,1,3.5],  \n",
    "[1,1,1,1,2],  \n",
    "[1,0,1,2,3.5],  \n",
    "[1,0,1,2,3.5],  \n",
    "[2,0,1,2,3.5],  \n",
    "[2,0,1,1,3.5],  \n",
    "[2,1,0,1,3.5],  \n",
    "[2,1,0,2,3.5],  \n",
    "[2,0,0,0,10],  \n",
    "]);\n",
    "\n",
    "y = np.array([  \n",
    "[1],  \n",
    "[0],  \n",
    "[1],  \n",
    "[1],  \n",
    "[0],  \n",
    "[0],  \n",
    "[0],  \n",
    "[1],  \n",
    "[1],  \n",
    "[1],  \n",
    "[1],  \n",
    "[1],  \n",
    "[1],  \n",
    "[1],  \n",
    "[1],  \n",
    "]) "
   ]
  },
  {
   "cell_type": "code",
   "execution_count": 121,
   "metadata": {
    "collapsed": false
   },
   "outputs": [],
   "source": [
    "class CartTree(object):\n",
    "    def __init__(self, min_num_leafnode = 1, min_gini = 0.05):\n",
    "#         assert xtrain.shape[0] == ytrain.shape[0]\n",
    "        self.min_num_leafnode = min_num_leafnode\n",
    "        self.min_gini = min_gini\n",
    "        pass\n",
    "    \n",
    "    def train(self, xtrain, ytrain):\n",
    "        self.tree = self.maketree(xtrain, ytrain)\n",
    "            \n",
    "    def gini(self, ytrain):\n",
    "        uni_y = np.unique(ytrain)\n",
    "        gn = 1.0\n",
    "        for i in uni_y:\n",
    "            num_i = ytrain[ytrain == i].shape[0] * 1.0 / ytrain.shape[0]\n",
    "            gn = gn - num_i *  num_i\n",
    "        return gn\n",
    "    \n",
    "    def node_class(self, ytrain):\n",
    "        most = -np.inf\n",
    "        most_label = -np.inf\n",
    "        uni_y = np.unique(ytrain)\n",
    "        for l in uni_y:\n",
    "            num_l = ytrain[ytrain == l].shape[0]\n",
    "            if num_l > most:\n",
    "                most = num_l\n",
    "                most_label = l\n",
    "        return most_label\n",
    "        pass\n",
    "    \n",
    "    def split_sample(self, feat, val, xtrain, ytrain):\n",
    "        left_x  = xtrain[xtrain[:, feat] <= val]\n",
    "        left_y  = ytrain[xtrain[:, feat] <= val]\n",
    "        right_x = xtrain[xtrain[:, feat] >  val]\n",
    "        right_y = ytrain[xtrain[:, feat] >  val]\n",
    "        return left_x, left_y, right_x, right_y\n",
    "    \n",
    "    def choose_feat_val(self, xtrain, ytrain):\n",
    "        m,n = xtrain.shape\n",
    "        bestFeat = None\n",
    "        bestVal = None\n",
    "        best_gini = np.inf\n",
    "        for featIndex in range(n):\n",
    "            uni_i_x = np.unique(xtrain[:, featIndex])\n",
    "            for sptval in uni_i_x:\n",
    "                left_x, left_y, right_x, right_y = self.split_sample(featIndex, sptval, xtrain, ytrain)\n",
    "                left_gini  = self.gini(left_y)\n",
    "                right_gini = self.gini(right_y)\n",
    "                sum_gini = left_y.shape[0] * 1.0 / ytrain.shape[0] *  left_gini + \\\n",
    "                          right_y.shape[0] * 1.0 / ytrain.shape[0] * right_gini\n",
    "                if sum_gini < best_gini:\n",
    "                    best_gini = sum_gini\n",
    "                    bestFeat = featIndex\n",
    "                    bestVal = sptval\n",
    "        return bestFeat, bestVal\n",
    "    \n",
    "    def maketree(self, xtrain, ytrain):\n",
    "        tree = {}\n",
    "        tree['gini'] = self.gini(ytrain)\n",
    "        print tree['gini']\n",
    "        tree['class'] = self.node_class(ytrain)\n",
    "        print tree['class']\n",
    "        if tree['gini'] < self.min_gini or xtrain.shape[0] < self.min_num_leafnode: #如果节点的样本数量或者gini指数小于阈值，则不再进行分裂\n",
    "            print 'if'\n",
    "            tree['feat_split'] = None                                                     #不再进行分裂，则表示feat，val，left，right都为None\n",
    "            tree['feat_val'] = None\n",
    "            tree['left']  = None\n",
    "            tree['right'] = None\n",
    "        else:\n",
    "            print 'else'\n",
    "            feat, val = self.choose_feat_val(xtrain, ytrain)\n",
    "#             print 'feat, vla', feat, val\n",
    "            tree['feat_split'] = feat\n",
    "            tree['feat_val']  = val\n",
    "            left_x, left_y, right_x, right_y = self.split_sample(feat, val, xtrain, ytrain)\n",
    "#             print np.c_[left_x, left_y]\n",
    "#             print np.c_[right_x, right_y]\n",
    "            tree['left']  = self.maketree(left_x , left_y )\n",
    "            tree['right'] = self.maketree(right_x, right_y)\n",
    "        return tree\n",
    "\n",
    "    def pred(self, xtest):\n",
    "        return self.predict(xtest, self.tree)\n",
    "    \n",
    "    def predict(self, xtest, tree):\n",
    "        if tree['left'] == None and tree['right'] == None:\n",
    "            return tree['class']\n",
    "        else:\n",
    "            if xtest[tree['feat_split']] <= tree['feat_val']:\n",
    "                return self.predict(xtest, tree['left'])\n",
    "            elif xtest[tree['feat_split']] > tree['feat_val']:\n",
    "                return self.predict(xtest, tree['right'])\n",
    "            "
   ]
  },
  {
   "cell_type": "code",
   "execution_count": 132,
   "metadata": {
    "collapsed": false,
    "scrolled": true
   },
   "outputs": [
    {
     "data": {
      "text/plain": [
       "array([[  0. ,   0. ,   0. ,   0. ,   8. ,   1. ],\n",
       "       [  0. ,   0. ,   0. ,   1. ,   3.5,   0. ],\n",
       "       [  0. ,   1. ,   0. ,   1. ,   3.5,   1. ],\n",
       "       [  0. ,   1. ,   1. ,   0. ,   3.5,   1. ],\n",
       "       [  0. ,   0. ,   0. ,   0. ,   3.5,   0. ],\n",
       "       [  1. ,   0. ,   0. ,   0. ,   3.5,   0. ],\n",
       "       [  1. ,   0. ,   0. ,   1. ,   3.5,   0. ],\n",
       "       [  1. ,   1. ,   1. ,   1. ,   2. ,   1. ],\n",
       "       [  1. ,   0. ,   1. ,   2. ,   3.5,   1. ],\n",
       "       [  1. ,   0. ,   1. ,   2. ,   3.5,   1. ],\n",
       "       [  2. ,   0. ,   1. ,   2. ,   3.5,   1. ],\n",
       "       [  2. ,   0. ,   1. ,   1. ,   3.5,   1. ],\n",
       "       [  2. ,   1. ,   0. ,   1. ,   3.5,   1. ],\n",
       "       [  2. ,   1. ,   0. ,   2. ,   3.5,   1. ],\n",
       "       [  2. ,   0. ,   0. ,   0. ,  10. ,   1. ]])"
      ]
     },
     "execution_count": 132,
     "metadata": {},
     "output_type": "execute_result"
    }
   ],
   "source": [
    "np.c_[x,y]"
   ]
  },
  {
   "cell_type": "code",
   "execution_count": 134,
   "metadata": {
    "collapsed": false
   },
   "outputs": [
    {
     "name": "stdout",
     "output_type": "stream",
     "text": [
      "[ 0.  0.  0.  0.  8.] [1] 1\n",
      "[ 0.   0.   0.   1.   3.5] [0] 0\n",
      "[ 0.   1.   0.   1.   3.5] [1] 1\n",
      "[ 0.   1.   1.   0.   3.5] [1] 1\n",
      "[ 0.   0.   0.   0.   3.5] [0] 0\n",
      "[ 1.   0.   0.   0.   3.5] [0] 0\n",
      "[ 1.   0.   0.   1.   3.5] [0] 0\n",
      "[ 1.  1.  1.  1.  2.] [1] 1\n",
      "[ 1.   0.   1.   2.   3.5] [1] 1\n",
      "[ 1.   0.   1.   2.   3.5] [1] 1\n",
      "[ 2.   0.   1.   2.   3.5] [1] 1\n",
      "[ 2.   0.   1.   1.   3.5] [1] 1\n",
      "[ 2.   1.   0.   1.   3.5] [1] 1\n",
      "[ 2.   1.   0.   2.   3.5] [1] 1\n",
      "[  2.   0.   0.   0.  10.] [1] 1\n"
     ]
    }
   ],
   "source": [
    "for i,j in zip(x, y):\n",
    "    print i,j, clf.pred(i)"
   ]
  },
  {
   "cell_type": "code",
   "execution_count": 154,
   "metadata": {
    "collapsed": false,
    "scrolled": true
   },
   "outputs": [
    {
     "name": "stdout",
     "output_type": "stream",
     "text": [
      "0.391111111111\n",
      "1\n",
      "else\n",
      "feat, vla 2 0.0\n",
      "[[  0.    0.    0.    0.    8.    1. ]\n",
      " [  0.    0.    0.    1.    3.5   0. ]\n",
      " [  0.    1.    0.    1.    3.5   1. ]\n",
      " [  0.    0.    0.    0.    3.5   0. ]\n",
      " [  1.    0.    0.    0.    3.5   0. ]\n",
      " [  1.    0.    0.    1.    3.5   0. ]\n",
      " [  2.    1.    0.    1.    3.5   1. ]\n",
      " [  2.    1.    0.    2.    3.5   1. ]\n",
      " [  2.    0.    0.    0.   10.    1. ]]\n",
      "[[ 0.   1.   1.   0.   3.5  1. ]\n",
      " [ 1.   1.   1.   1.   2.   1. ]\n",
      " [ 1.   0.   1.   2.   3.5  1. ]\n",
      " [ 1.   0.   1.   2.   3.5  1. ]\n",
      " [ 2.   0.   1.   2.   3.5  1. ]\n",
      " [ 2.   0.   1.   1.   3.5  1. ]]\n",
      "0.493827160494\n",
      "1\n",
      "else\n",
      "feat, vla 0 1.0\n",
      "[[ 0.   0.   0.   0.   8.   1. ]\n",
      " [ 0.   0.   0.   1.   3.5  0. ]\n",
      " [ 0.   1.   0.   1.   3.5  1. ]\n",
      " [ 0.   0.   0.   0.   3.5  0. ]\n",
      " [ 1.   0.   0.   0.   3.5  0. ]\n",
      " [ 1.   0.   0.   1.   3.5  0. ]]\n",
      "[[  2.    1.    0.    1.    3.5   1. ]\n",
      " [  2.    1.    0.    2.    3.5   1. ]\n",
      " [  2.    0.    0.    0.   10.    1. ]]\n",
      "0.444444444444\n",
      "0\n",
      "else\n",
      "feat, vla 1 0.0\n",
      "[[ 0.   0.   0.   0.   8.   1. ]\n",
      " [ 0.   0.   0.   1.   3.5  0. ]\n",
      " [ 0.   0.   0.   0.   3.5  0. ]\n",
      " [ 1.   0.   0.   0.   3.5  0. ]\n",
      " [ 1.   0.   0.   1.   3.5  0. ]]\n",
      "[[ 0.   1.   0.   1.   3.5  1. ]]\n",
      "0.32\n",
      "0\n",
      "else\n",
      "feat, vla 4 3.5\n",
      "[[ 0.   0.   0.   1.   3.5  0. ]\n",
      " [ 0.   0.   0.   0.   3.5  0. ]\n",
      " [ 1.   0.   0.   0.   3.5  0. ]\n",
      " [ 1.   0.   0.   1.   3.5  0. ]]\n",
      "[[ 0.  0.  0.  0.  8.  1.]]\n",
      "0.0\n",
      "0\n",
      "if\n",
      "0.0\n",
      "1\n",
      "if\n",
      "0.0\n",
      "1\n",
      "if\n",
      "0.0\n",
      "1\n",
      "if\n",
      "0.0\n",
      "1\n",
      "if\n"
     ]
    }
   ],
   "source": [
    "clf = CartTree(1, 0.1)\n",
    "clf.train(x, y)"
   ]
  },
  {
   "cell_type": "code",
   "execution_count": 155,
   "metadata": {
    "collapsed": false,
    "scrolled": true
   },
   "outputs": [
    {
     "data": {
      "text/plain": [
       "{'class': 1,\n",
       " 'feat_split': 2,\n",
       " 'feat_val': 0.0,\n",
       " 'gini': 0.3911111111111112,\n",
       " 'left': {'class': 1,\n",
       "  'feat_split': 0,\n",
       "  'feat_val': 1.0,\n",
       "  'gini': 0.49382716049382713,\n",
       "  'left': {'class': 0,\n",
       "   'feat_split': 1,\n",
       "   'feat_val': 0.0,\n",
       "   'gini': 0.4444444444444445,\n",
       "   'left': {'class': 0,\n",
       "    'feat_split': 4,\n",
       "    'feat_val': 3.5,\n",
       "    'gini': 0.31999999999999984,\n",
       "    'left': {'class': 0,\n",
       "     'feat_split': None,\n",
       "     'feat_val': None,\n",
       "     'gini': 0.0,\n",
       "     'left': None,\n",
       "     'right': None},\n",
       "    'right': {'class': 1,\n",
       "     'feat_split': None,\n",
       "     'feat_val': None,\n",
       "     'gini': 0.0,\n",
       "     'left': None,\n",
       "     'right': None}},\n",
       "   'right': {'class': 1,\n",
       "    'feat_split': None,\n",
       "    'feat_val': None,\n",
       "    'gini': 0.0,\n",
       "    'left': None,\n",
       "    'right': None}},\n",
       "  'right': {'class': 1,\n",
       "   'feat_split': None,\n",
       "   'feat_val': None,\n",
       "   'gini': 0.0,\n",
       "   'left': None,\n",
       "   'right': None}},\n",
       " 'right': {'class': 1,\n",
       "  'feat_split': None,\n",
       "  'feat_val': None,\n",
       "  'gini': 0.0,\n",
       "  'left': None,\n",
       "  'right': None}}"
      ]
     },
     "execution_count": 155,
     "metadata": {},
     "output_type": "execute_result"
    }
   ],
   "source": [
    "clf.tree"
   ]
  },
  {
   "cell_type": "code",
   "execution_count": 143,
   "metadata": {
    "collapsed": false
   },
   "outputs": [],
   "source": [
    "from sklearn.tree import DecisionTreeClassifier,export_graphviz\n",
    "from IPython.display import Image\n",
    "import pydotplus"
   ]
  },
  {
   "cell_type": "code",
   "execution_count": 150,
   "metadata": {
    "collapsed": false
   },
   "outputs": [
    {
     "data": {
      "text/plain": [
       "True"
      ]
     },
     "execution_count": 150,
     "metadata": {},
     "output_type": "execute_result"
    }
   ],
   "source": [
    "skl_clf = DecisionTreeClassifier()\n",
    "skl_clf = skl_clf.fit(x,y)\n",
    "dot_data = export_graphviz(skl_clf, out_file=None) \n",
    "graph = pydotplus.graph_from_dot_data(dot_data) \n",
    "graph.write_pdf(\"my.pdf\") "
   ]
  },
  {
   "cell_type": "code",
   "execution_count": 153,
   "metadata": {
    "collapsed": false
   },
   "outputs": [
    {
     "name": "stdout",
     "output_type": "stream",
     "text": [
      "[ 0.  0.  0.  0.  8.] [1] [1]\n",
      "[ 0.   0.   0.   1.   3.5] [0] [0]\n",
      "[ 0.   1.   0.   1.   3.5] [1] [1]\n",
      "[ 0.   1.   1.   0.   3.5] [1] [1]\n",
      "[ 0.   0.   0.   0.   3.5] [0] [0]\n",
      "[ 1.   0.   0.   0.   3.5] [0] [0]\n",
      "[ 1.   0.   0.   1.   3.5] [0] [0]\n",
      "[ 1.  1.  1.  1.  2.] [1] [1]\n",
      "[ 1.   0.   1.   2.   3.5] [1] [1]\n",
      "[ 1.   0.   1.   2.   3.5] [1] [1]\n",
      "[ 2.   0.   1.   2.   3.5] [1] [1]\n",
      "[ 2.   0.   1.   1.   3.5] [1] [1]\n",
      "[ 2.   1.   0.   1.   3.5] [1] [1]\n",
      "[ 2.   1.   0.   2.   3.5] [1] [1]\n",
      "[  2.   0.   0.   0.  10.] [1] [1]\n"
     ]
    },
    {
     "name": "stderr",
     "output_type": "stream",
     "text": [
      "/home/lilinhan/workspace/software/anaconda/lib/python2.7/site-packages/sklearn/utils/validation.py:395: DeprecationWarning: Passing 1d arrays as data is deprecated in 0.17 and will raise ValueError in 0.19. Reshape your data either using X.reshape(-1, 1) if your data has a single feature or X.reshape(1, -1) if it contains a single sample.\n",
      "  DeprecationWarning)\n",
      "/home/lilinhan/workspace/software/anaconda/lib/python2.7/site-packages/sklearn/utils/validation.py:395: DeprecationWarning: Passing 1d arrays as data is deprecated in 0.17 and will raise ValueError in 0.19. Reshape your data either using X.reshape(-1, 1) if your data has a single feature or X.reshape(1, -1) if it contains a single sample.\n",
      "  DeprecationWarning)\n",
      "/home/lilinhan/workspace/software/anaconda/lib/python2.7/site-packages/sklearn/utils/validation.py:395: DeprecationWarning: Passing 1d arrays as data is deprecated in 0.17 and will raise ValueError in 0.19. Reshape your data either using X.reshape(-1, 1) if your data has a single feature or X.reshape(1, -1) if it contains a single sample.\n",
      "  DeprecationWarning)\n",
      "/home/lilinhan/workspace/software/anaconda/lib/python2.7/site-packages/sklearn/utils/validation.py:395: DeprecationWarning: Passing 1d arrays as data is deprecated in 0.17 and will raise ValueError in 0.19. Reshape your data either using X.reshape(-1, 1) if your data has a single feature or X.reshape(1, -1) if it contains a single sample.\n",
      "  DeprecationWarning)\n",
      "/home/lilinhan/workspace/software/anaconda/lib/python2.7/site-packages/sklearn/utils/validation.py:395: DeprecationWarning: Passing 1d arrays as data is deprecated in 0.17 and will raise ValueError in 0.19. Reshape your data either using X.reshape(-1, 1) if your data has a single feature or X.reshape(1, -1) if it contains a single sample.\n",
      "  DeprecationWarning)\n",
      "/home/lilinhan/workspace/software/anaconda/lib/python2.7/site-packages/sklearn/utils/validation.py:395: DeprecationWarning: Passing 1d arrays as data is deprecated in 0.17 and will raise ValueError in 0.19. Reshape your data either using X.reshape(-1, 1) if your data has a single feature or X.reshape(1, -1) if it contains a single sample.\n",
      "  DeprecationWarning)\n",
      "/home/lilinhan/workspace/software/anaconda/lib/python2.7/site-packages/sklearn/utils/validation.py:395: DeprecationWarning: Passing 1d arrays as data is deprecated in 0.17 and will raise ValueError in 0.19. Reshape your data either using X.reshape(-1, 1) if your data has a single feature or X.reshape(1, -1) if it contains a single sample.\n",
      "  DeprecationWarning)\n",
      "/home/lilinhan/workspace/software/anaconda/lib/python2.7/site-packages/sklearn/utils/validation.py:395: DeprecationWarning: Passing 1d arrays as data is deprecated in 0.17 and will raise ValueError in 0.19. Reshape your data either using X.reshape(-1, 1) if your data has a single feature or X.reshape(1, -1) if it contains a single sample.\n",
      "  DeprecationWarning)\n",
      "/home/lilinhan/workspace/software/anaconda/lib/python2.7/site-packages/sklearn/utils/validation.py:395: DeprecationWarning: Passing 1d arrays as data is deprecated in 0.17 and will raise ValueError in 0.19. Reshape your data either using X.reshape(-1, 1) if your data has a single feature or X.reshape(1, -1) if it contains a single sample.\n",
      "  DeprecationWarning)\n",
      "/home/lilinhan/workspace/software/anaconda/lib/python2.7/site-packages/sklearn/utils/validation.py:395: DeprecationWarning: Passing 1d arrays as data is deprecated in 0.17 and will raise ValueError in 0.19. Reshape your data either using X.reshape(-1, 1) if your data has a single feature or X.reshape(1, -1) if it contains a single sample.\n",
      "  DeprecationWarning)\n",
      "/home/lilinhan/workspace/software/anaconda/lib/python2.7/site-packages/sklearn/utils/validation.py:395: DeprecationWarning: Passing 1d arrays as data is deprecated in 0.17 and will raise ValueError in 0.19. Reshape your data either using X.reshape(-1, 1) if your data has a single feature or X.reshape(1, -1) if it contains a single sample.\n",
      "  DeprecationWarning)\n",
      "/home/lilinhan/workspace/software/anaconda/lib/python2.7/site-packages/sklearn/utils/validation.py:395: DeprecationWarning: Passing 1d arrays as data is deprecated in 0.17 and will raise ValueError in 0.19. Reshape your data either using X.reshape(-1, 1) if your data has a single feature or X.reshape(1, -1) if it contains a single sample.\n",
      "  DeprecationWarning)\n",
      "/home/lilinhan/workspace/software/anaconda/lib/python2.7/site-packages/sklearn/utils/validation.py:395: DeprecationWarning: Passing 1d arrays as data is deprecated in 0.17 and will raise ValueError in 0.19. Reshape your data either using X.reshape(-1, 1) if your data has a single feature or X.reshape(1, -1) if it contains a single sample.\n",
      "  DeprecationWarning)\n",
      "/home/lilinhan/workspace/software/anaconda/lib/python2.7/site-packages/sklearn/utils/validation.py:395: DeprecationWarning: Passing 1d arrays as data is deprecated in 0.17 and will raise ValueError in 0.19. Reshape your data either using X.reshape(-1, 1) if your data has a single feature or X.reshape(1, -1) if it contains a single sample.\n",
      "  DeprecationWarning)\n",
      "/home/lilinhan/workspace/software/anaconda/lib/python2.7/site-packages/sklearn/utils/validation.py:395: DeprecationWarning: Passing 1d arrays as data is deprecated in 0.17 and will raise ValueError in 0.19. Reshape your data either using X.reshape(-1, 1) if your data has a single feature or X.reshape(1, -1) if it contains a single sample.\n",
      "  DeprecationWarning)\n"
     ]
    }
   ],
   "source": [
    "for i,j in zip(x,y):\n",
    "    print i,j, skl_clf.predict(i)"
   ]
  },
  {
   "cell_type": "code",
   "execution_count": 145,
   "metadata": {
    "collapsed": false
   },
   "outputs": [
    {
     "ename": "InvocationException",
     "evalue": "GraphViz's executables not found",
     "output_type": "error",
     "traceback": [
      "\u001b[1;31m---------------------------------------------------------------------------\u001b[0m",
      "\u001b[1;31mInvocationException\u001b[0m                       Traceback (most recent call last)",
      "\u001b[1;32m<ipython-input-145-99365ee8750a>\u001b[0m in \u001b[0;36m<module>\u001b[1;34m()\u001b[0m\n\u001b[0;32m      5\u001b[0m                          special_characters=True)  \n\u001b[0;32m      6\u001b[0m \u001b[0mgraph\u001b[0m \u001b[1;33m=\u001b[0m \u001b[0mpydotplus\u001b[0m\u001b[1;33m.\u001b[0m\u001b[0mgraph_from_dot_data\u001b[0m\u001b[1;33m(\u001b[0m\u001b[0mdot_data\u001b[0m\u001b[1;33m)\u001b[0m\u001b[1;33m\u001b[0m\u001b[0m\n\u001b[1;32m----> 7\u001b[1;33m \u001b[0mImage\u001b[0m\u001b[1;33m(\u001b[0m\u001b[0mgraph\u001b[0m\u001b[1;33m.\u001b[0m\u001b[0mcreate_png\u001b[0m\u001b[1;33m(\u001b[0m\u001b[1;33m)\u001b[0m\u001b[1;33m)\u001b[0m\u001b[1;33m\u001b[0m\u001b[0m\n\u001b[0m",
      "\u001b[1;32m/home/lilinhan/workspace/software/anaconda/lib/python2.7/site-packages/pydotplus/graphviz.pyc\u001b[0m in \u001b[0;36m<lambda>\u001b[1;34m(f, prog)\u001b[0m\n\u001b[0;32m   1795\u001b[0m             self.__setattr__(\n\u001b[0;32m   1796\u001b[0m                 \u001b[1;34m'create_'\u001b[0m \u001b[1;33m+\u001b[0m \u001b[0mfrmt\u001b[0m\u001b[1;33m,\u001b[0m\u001b[1;33m\u001b[0m\u001b[0m\n\u001b[1;32m-> 1797\u001b[1;33m                 \u001b[1;32mlambda\u001b[0m \u001b[0mf\u001b[0m\u001b[1;33m=\u001b[0m\u001b[0mfrmt\u001b[0m\u001b[1;33m,\u001b[0m \u001b[0mprog\u001b[0m\u001b[1;33m=\u001b[0m\u001b[0mself\u001b[0m\u001b[1;33m.\u001b[0m\u001b[0mprog\u001b[0m\u001b[1;33m:\u001b[0m \u001b[0mself\u001b[0m\u001b[1;33m.\u001b[0m\u001b[0mcreate\u001b[0m\u001b[1;33m(\u001b[0m\u001b[0mformat\u001b[0m\u001b[1;33m=\u001b[0m\u001b[0mf\u001b[0m\u001b[1;33m,\u001b[0m \u001b[0mprog\u001b[0m\u001b[1;33m=\u001b[0m\u001b[0mprog\u001b[0m\u001b[1;33m)\u001b[0m\u001b[1;33m\u001b[0m\u001b[0m\n\u001b[0m\u001b[0;32m   1798\u001b[0m             )\n\u001b[0;32m   1799\u001b[0m             \u001b[0mf\u001b[0m \u001b[1;33m=\u001b[0m \u001b[0mself\u001b[0m\u001b[1;33m.\u001b[0m\u001b[0m__dict__\u001b[0m\u001b[1;33m[\u001b[0m\u001b[1;34m'create_'\u001b[0m \u001b[1;33m+\u001b[0m \u001b[0mfrmt\u001b[0m\u001b[1;33m]\u001b[0m\u001b[1;33m\u001b[0m\u001b[0m\n",
      "\u001b[1;32m/home/lilinhan/workspace/software/anaconda/lib/python2.7/site-packages/pydotplus/graphviz.pyc\u001b[0m in \u001b[0;36mcreate\u001b[1;34m(self, prog, format)\u001b[0m\n\u001b[0;32m   1958\u001b[0m             \u001b[1;32mif\u001b[0m \u001b[0mself\u001b[0m\u001b[1;33m.\u001b[0m\u001b[0mprogs\u001b[0m \u001b[1;32mis\u001b[0m \u001b[0mNone\u001b[0m\u001b[1;33m:\u001b[0m\u001b[1;33m\u001b[0m\u001b[0m\n\u001b[0;32m   1959\u001b[0m                 raise InvocationException(\n\u001b[1;32m-> 1960\u001b[1;33m                     'GraphViz\\'s executables not found')\n\u001b[0m\u001b[0;32m   1961\u001b[0m \u001b[1;33m\u001b[0m\u001b[0m\n\u001b[0;32m   1962\u001b[0m         \u001b[1;32mif\u001b[0m \u001b[0mprog\u001b[0m \u001b[1;32mnot\u001b[0m \u001b[1;32min\u001b[0m \u001b[0mself\u001b[0m\u001b[1;33m.\u001b[0m\u001b[0mprogs\u001b[0m\u001b[1;33m:\u001b[0m\u001b[1;33m\u001b[0m\u001b[0m\n",
      "\u001b[1;31mInvocationException\u001b[0m: GraphViz's executables not found"
     ]
    }
   ],
   "source": [
    "dot_data = export_graphviz(skl_clf, out_file=None, \n",
    "#                          feature_names=iris.feature_names,  \n",
    "#                          class_names=iris.target_names,  \n",
    "                         filled=True, rounded=True,  \n",
    "                         special_characters=True)  \n",
    "graph = pydotplus.graph_from_dot_data(dot_data)  \n",
    "Image(graph.create_png())  "
   ]
  },
  {
   "cell_type": "code",
   "execution_count": null,
   "metadata": {
    "collapsed": true
   },
   "outputs": [],
   "source": [
    "##############################################################"
   ]
  },
  {
   "cell_type": "code",
   "execution_count": 106,
   "metadata": {
    "collapsed": true
   },
   "outputs": [],
   "source": [
    "class A(object):\n",
    "    def __init__(self):\n",
    "        self.a = 1\n",
    "\n",
    "    def func1(self):\n",
    "        print 'this is func1'\n",
    "        self.func2()\n",
    "        self.b = 1\n",
    "  \n",
    "    def func2(self):\n",
    "        print 'this is func2'\n",
    "          \n"
   ]
  },
  {
   "cell_type": "code",
   "execution_count": 107,
   "metadata": {
    "collapsed": true
   },
   "outputs": [],
   "source": [
    "a = A()"
   ]
  },
  {
   "cell_type": "code",
   "execution_count": 108,
   "metadata": {
    "collapsed": false
   },
   "outputs": [
    {
     "name": "stdout",
     "output_type": "stream",
     "text": [
      "this is func1\n",
      "this is func2\n"
     ]
    }
   ],
   "source": [
    "a.func1()"
   ]
  },
  {
   "cell_type": "code",
   "execution_count": 109,
   "metadata": {
    "collapsed": false
   },
   "outputs": [
    {
     "data": {
      "text/plain": [
       "1"
      ]
     },
     "execution_count": 109,
     "metadata": {},
     "output_type": "execute_result"
    }
   ],
   "source": [
    "a.b"
   ]
  },
  {
   "cell_type": "code",
   "execution_count": 26,
   "metadata": {
    "collapsed": true
   },
   "outputs": [],
   "source": [
    "class A(object):\n",
    "    def __init__(self, a = -1, b = -2, c = -3, d = -4):\n",
    "        self.a = a\n",
    "        self.b = b\n",
    "        self.c = c\n",
    "        self.d = d\n",
    "        \n",
    "    def pp(self):\n",
    "        print self.a, self.b, self.c, self.d\n",
    "\n",
    "def func1(arg):\n",
    "    print arg\n",
    "    a = A(*arg)\n",
    "    a.pp()"
   ]
  },
  {
   "cell_type": "code",
   "execution_count": 27,
   "metadata": {
    "collapsed": false
   },
   "outputs": [
    {
     "name": "stdout",
     "output_type": "stream",
     "text": [
      "(1, 2, 3)\n",
      "1 2 3 -4\n"
     ]
    }
   ],
   "source": [
    "func1((1,2,3))"
   ]
  },
  {
   "cell_type": "code",
   "execution_count": 19,
   "metadata": {
    "collapsed": true
   },
   "outputs": [],
   "source": [
    "def add(x, y):\n",
    "    print x,y\n",
    "    return x + y"
   ]
  },
  {
   "cell_type": "code",
   "execution_count": 20,
   "metadata": {
    "collapsed": true
   },
   "outputs": [],
   "source": [
    "params = (1,2)"
   ]
  },
  {
   "cell_type": "code",
   "execution_count": 21,
   "metadata": {
    "collapsed": false
   },
   "outputs": [
    {
     "name": "stdout",
     "output_type": "stream",
     "text": [
      "1 2\n"
     ]
    },
    {
     "data": {
      "text/plain": [
       "3"
      ]
     },
     "execution_count": 21,
     "metadata": {},
     "output_type": "execute_result"
    }
   ],
   "source": [
    "add(*params)"
   ]
  },
  {
   "cell_type": "code",
   "execution_count": 7,
   "metadata": {
    "collapsed": true
   },
   "outputs": [],
   "source": [
    "y = np.array([1,2])"
   ]
  },
  {
   "cell_type": "code",
   "execution_count": 8,
   "metadata": {
    "collapsed": false
   },
   "outputs": [
    {
     "data": {
      "text/plain": [
       "array([1, 2])"
      ]
     },
     "execution_count": 8,
     "metadata": {},
     "output_type": "execute_result"
    }
   ],
   "source": [
    "y"
   ]
  },
  {
   "cell_type": "code",
   "execution_count": 9,
   "metadata": {
    "collapsed": false
   },
   "outputs": [
    {
     "data": {
      "text/plain": [
       "1"
      ]
     },
     "execution_count": 9,
     "metadata": {},
     "output_type": "execute_result"
    }
   ],
   "source": [
    "y.ndim"
   ]
  },
  {
   "cell_type": "code",
   "execution_count": 10,
   "metadata": {
    "collapsed": true
   },
   "outputs": [],
   "source": [
    "y = np.reshape(y, (-1,1))"
   ]
  },
  {
   "cell_type": "code",
   "execution_count": 11,
   "metadata": {
    "collapsed": false
   },
   "outputs": [
    {
     "data": {
      "text/plain": [
       "2"
      ]
     },
     "execution_count": 11,
     "metadata": {},
     "output_type": "execute_result"
    }
   ],
   "source": [
    "y.ndim"
   ]
  },
  {
   "cell_type": "code",
   "execution_count": 12,
   "metadata": {
    "collapsed": false
   },
   "outputs": [
    {
     "data": {
      "text/plain": [
       "array([[1],\n",
       "       [2]])"
      ]
     },
     "execution_count": 12,
     "metadata": {},
     "output_type": "execute_result"
    }
   ],
   "source": [
    "y"
   ]
  },
  {
   "cell_type": "code",
   "execution_count": null,
   "metadata": {
    "collapsed": true
   },
   "outputs": [],
   "source": []
  },
  {
   "cell_type": "code",
   "execution_count": null,
   "metadata": {
    "collapsed": true
   },
   "outputs": [],
   "source": []
  },
  {
   "cell_type": "code",
   "execution_count": null,
   "metadata": {
    "collapsed": true
   },
   "outputs": [],
   "source": []
  },
  {
   "cell_type": "code",
   "execution_count": null,
   "metadata": {
    "collapsed": true
   },
   "outputs": [],
   "source": []
  },
  {
   "cell_type": "code",
   "execution_count": 4,
   "metadata": {
    "collapsed": false,
    "scrolled": true
   },
   "outputs": [
    {
     "data": {
      "image/png": "[encoded data removed]",
      "text/plain": [
       "<matplotlib.figure.Figure at 0x7f3575635210>"
      ]
     },
     "metadata": {},
     "output_type": "display_data"
    },
    {
     "data": {
      "image/png": "[encoded data removed]",
      "text/plain": [
       "<matplotlib.figure.Figure at 0x7f3575635810>"
      ]
     },
     "metadata": {},
     "output_type": "display_data"
    }
   ],
   "source": [
    "n_neighbors = 15\n",
    "\n",
    "# import some data to play with\n",
    "iris = datasets.load_iris()\n",
    "X = iris.data[:, :2]  # we only take the first two features. We could\n",
    "                      # avoid this ugly slicing by using a two-dim dataset\n",
    "y = iris.target\n",
    "\n",
    "h = .02  # step size in the mesh\n",
    "\n",
    "# Create color maps\n",
    "cmap_light = ListedColormap(['#FFAAAA', '#AAFFAA', '#AAAAFF'])\n",
    "cmap_bold = ListedColormap(['#FF0000', '#00FF00', '#0000FF'])\n",
    "\n",
    "for weights in ['uniform', 'distance']:\n",
    "    # we create an instance of Neighbours Classifier and fit the data.\n",
    "    clf = neighbors.KNeighborsClassifier(n_neighbors, weights=weights)\n",
    "    clf.fit(X, y)\n",
    "\n",
    "    # Plot the decision boundary. For that, we will assign a color to each\n",
    "    # point in the mesh [x_min, x_max]x[y_min, y_max].\n",
    "    x_min, x_max = X[:, 0].min() - 1, X[:, 0].max() + 1\n",
    "    y_min, y_max = X[:, 1].min() - 1, X[:, 1].max() + 1\n",
    "    xx, yy = np.meshgrid(np.arange(x_min, x_max, h),\n",
    "                         np.arange(y_min, y_max, h))\n",
    "    Z = clf.predict(np.c_[xx.ravel(), yy.ravel()])\n",
    "\n",
    "    # Put the result into a color plot\n",
    "    Z = Z.reshape(xx.shape)\n",
    "    plt.figure()\n",
    "    plt.pcolormesh(xx, yy, Z, cmap=cmap_light)\n",
    "\n",
    "    # Plot also the training points\n",
    "    plt.scatter(X[:, 0], X[:, 1], c=y, cmap=cmap_bold)\n",
    "    plt.xlim(xx.min(), xx.max())\n",
    "    plt.ylim(yy.min(), yy.max())\n",
    "    plt.title(\"3-Class classification (k = %i, weights = '%s')\"\n",
    "              % (n_neighbors, weights))\n",
    "\n",
    "plt.show()"
   ]
  },
  {
   "cell_type": "code",
   "execution_count": 6,
   "metadata": {
    "collapsed": false
   },
   "outputs": [],
   "source": [
    "df = pd.DataFrame(np.random.randn(6,4))"
   ]
  },
  {
   "cell_type": "code",
   "execution_count": 8,
   "metadata": {
    "collapsed": false
   },
   "outputs": [],
   "source": [
    "del df[0]"
   ]
  },
  {
   "cell_type": "code",
   "execution_count": 10,
   "metadata": {
    "collapsed": false
   },
   "outputs": [
    {
     "data": {
      "text/html": [
       "<div>\n",
       "<table border=\"1\" class=\"dataframe\">\n",
       "  <thead>\n",
       "    <tr style=\"text-align: right;\">\n",
       "      <th></th>\n",
       "      <th>3</th>\n",
       "    </tr>\n",
       "  </thead>\n",
       "  <tbody>\n",
       "    <tr>\n",
       "      <th>0</th>\n",
       "      <td>-1.569206</td>\n",
       "    </tr>\n",
       "    <tr>\n",
       "      <th>1</th>\n",
       "      <td>1.124476</td>\n",
       "    </tr>\n",
       "    <tr>\n",
       "      <th>2</th>\n",
       "      <td>-0.349729</td>\n",
       "    </tr>\n",
       "    <tr>\n",
       "      <th>3</th>\n",
       "      <td>-0.343399</td>\n",
       "    </tr>\n",
       "    <tr>\n",
       "      <th>4</th>\n",
       "      <td>0.035397</td>\n",
       "    </tr>\n",
       "    <tr>\n",
       "      <th>5</th>\n",
       "      <td>-1.374534</td>\n",
       "    </tr>\n",
       "  </tbody>\n",
       "</table>\n",
       "</div>"
      ],
      "text/plain": [
       "          3\n",
       "0 -1.569206\n",
       "1  1.124476\n",
       "2 -0.349729\n",
       "3 -0.343399\n",
       "4  0.035397\n",
       "5 -1.374534"
      ]
     },
     "execution_count": 10,
     "metadata": {},
     "output_type": "execute_result"
    }
   ],
   "source": [
    "df.drop([1,2], axis = 1)"
   ]
  },
  {
   "cell_type": "code",
   "execution_count": 12,
   "metadata": {
    "collapsed": false
   },
   "outputs": [
    {
     "data": {
      "text/html": [
       "<div>\n",
       "<table border=\"1\" class=\"dataframe\">\n",
       "  <thead>\n",
       "    <tr style=\"text-align: right;\">\n",
       "      <th></th>\n",
       "      <th>1</th>\n",
       "      <th>2</th>\n",
       "      <th>3</th>\n",
       "    </tr>\n",
       "  </thead>\n",
       "  <tbody>\n",
       "    <tr>\n",
       "      <th>1</th>\n",
       "      <td>-2.066191</td>\n",
       "      <td>1.395033</td>\n",
       "      <td>1.124476</td>\n",
       "    </tr>\n",
       "    <tr>\n",
       "      <th>2</th>\n",
       "      <td>-1.435498</td>\n",
       "      <td>0.916762</td>\n",
       "      <td>-0.349729</td>\n",
       "    </tr>\n",
       "    <tr>\n",
       "      <th>3</th>\n",
       "      <td>-0.702570</td>\n",
       "      <td>0.792275</td>\n",
       "      <td>-0.343399</td>\n",
       "    </tr>\n",
       "    <tr>\n",
       "      <th>4</th>\n",
       "      <td>-0.692274</td>\n",
       "      <td>0.054867</td>\n",
       "      <td>0.035397</td>\n",
       "    </tr>\n",
       "    <tr>\n",
       "      <th>5</th>\n",
       "      <td>0.325861</td>\n",
       "      <td>-0.046116</td>\n",
       "      <td>-1.374534</td>\n",
       "    </tr>\n",
       "  </tbody>\n",
       "</table>\n",
       "</div>"
      ],
      "text/plain": [
       "          1         2         3\n",
       "1 -2.066191  1.395033  1.124476\n",
       "2 -1.435498  0.916762 -0.349729\n",
       "3 -0.702570  0.792275 -0.343399\n",
       "4 -0.692274  0.054867  0.035397\n",
       "5  0.325861 -0.046116 -1.374534"
      ]
     },
     "execution_count": 12,
     "metadata": {},
     "output_type": "execute_result"
    }
   ],
   "source": [
    "df.drop(0, axis = 0)"
   ]
  },
  {
   "cell_type": "code",
   "execution_count": 13,
   "metadata": {
    "collapsed": false,
    "scrolled": true
   },
   "outputs": [
    {
     "data": {
      "text/html": [
       "<div>\n",
       "<table border=\"1\" class=\"dataframe\">\n",
       "  <thead>\n",
       "    <tr style=\"text-align: right;\">\n",
       "      <th></th>\n",
       "      <th>1</th>\n",
       "      <th>2</th>\n",
       "      <th>3</th>\n",
       "    </tr>\n",
       "  </thead>\n",
       "  <tbody>\n",
       "    <tr>\n",
       "      <th>0</th>\n",
       "      <td>1.619917</td>\n",
       "      <td>-1.866857</td>\n",
       "      <td>-1.569206</td>\n",
       "    </tr>\n",
       "    <tr>\n",
       "      <th>1</th>\n",
       "      <td>-2.066191</td>\n",
       "      <td>1.395033</td>\n",
       "      <td>1.124476</td>\n",
       "    </tr>\n",
       "    <tr>\n",
       "      <th>2</th>\n",
       "      <td>-1.435498</td>\n",
       "      <td>0.916762</td>\n",
       "      <td>-0.349729</td>\n",
       "    </tr>\n",
       "    <tr>\n",
       "      <th>3</th>\n",
       "      <td>-0.702570</td>\n",
       "      <td>0.792275</td>\n",
       "      <td>-0.343399</td>\n",
       "    </tr>\n",
       "    <tr>\n",
       "      <th>4</th>\n",
       "      <td>-0.692274</td>\n",
       "      <td>0.054867</td>\n",
       "      <td>0.035397</td>\n",
       "    </tr>\n",
       "    <tr>\n",
       "      <th>5</th>\n",
       "      <td>0.325861</td>\n",
       "      <td>-0.046116</td>\n",
       "      <td>-1.374534</td>\n",
       "    </tr>\n",
       "  </tbody>\n",
       "</table>\n",
       "</div>"
      ],
      "text/plain": [
       "          1         2         3\n",
       "0  1.619917 -1.866857 -1.569206\n",
       "1 -2.066191  1.395033  1.124476\n",
       "2 -1.435498  0.916762 -0.349729\n",
       "3 -0.702570  0.792275 -0.343399\n",
       "4 -0.692274  0.054867  0.035397\n",
       "5  0.325861 -0.046116 -1.374534"
      ]
     },
     "execution_count": 13,
     "metadata": {},
     "output_type": "execute_result"
    }
   ],
   "source": [
    "df"
   ]
  },
  {
   "cell_type": "code",
   "execution_count": 14,
   "metadata": {
    "collapsed": false
   },
   "outputs": [],
   "source": [
    "df = pd.DataFrame({'A' : ['foo', 'bar', 'foo', 'bar',\n",
    "                     'foo', 'bar', 'foo', 'foo'],\n",
    "                    'B' : ['one', 'one', 'two', 'three',\n",
    "                           'two', 'two', 'one', 'three'],\n",
    "               'C' : np.random.randn(8),\n",
    "                  'D' : np.random.randn(8)})"
   ]
  },
  {
   "cell_type": "code",
   "execution_count": 15,
   "metadata": {
    "collapsed": false,
    "scrolled": true
   },
   "outputs": [
    {
     "data": {
      "text/html": [
       "<div>\n",
       "<table border=\"1\" class=\"dataframe\">\n",
       "  <thead>\n",
       "    <tr style=\"text-align: right;\">\n",
       "      <th></th>\n",
       "      <th>A</th>\n",
       "      <th>B</th>\n",
       "      <th>C</th>\n",
       "      <th>D</th>\n",
       "    </tr>\n",
       "  </thead>\n",
       "  <tbody>\n",
       "    <tr>\n",
       "      <th>0</th>\n",
       "      <td>foo</td>\n",
       "      <td>one</td>\n",
       "      <td>-0.347863</td>\n",
       "      <td>-0.069466</td>\n",
       "    </tr>\n",
       "    <tr>\n",
       "      <th>1</th>\n",
       "      <td>bar</td>\n",
       "      <td>one</td>\n",
       "      <td>-0.469117</td>\n",
       "      <td>-2.533820</td>\n",
       "    </tr>\n",
       "    <tr>\n",
       "      <th>2</th>\n",
       "      <td>foo</td>\n",
       "      <td>two</td>\n",
       "      <td>0.107545</td>\n",
       "      <td>0.640042</td>\n",
       "    </tr>\n",
       "    <tr>\n",
       "      <th>3</th>\n",
       "      <td>bar</td>\n",
       "      <td>three</td>\n",
       "      <td>-1.784074</td>\n",
       "      <td>-1.192285</td>\n",
       "    </tr>\n",
       "    <tr>\n",
       "      <th>4</th>\n",
       "      <td>foo</td>\n",
       "      <td>two</td>\n",
       "      <td>-0.963568</td>\n",
       "      <td>-0.585259</td>\n",
       "    </tr>\n",
       "    <tr>\n",
       "      <th>5</th>\n",
       "      <td>bar</td>\n",
       "      <td>two</td>\n",
       "      <td>-1.731198</td>\n",
       "      <td>-0.838760</td>\n",
       "    </tr>\n",
       "    <tr>\n",
       "      <th>6</th>\n",
       "      <td>foo</td>\n",
       "      <td>one</td>\n",
       "      <td>-1.493573</td>\n",
       "      <td>0.104133</td>\n",
       "    </tr>\n",
       "    <tr>\n",
       "      <th>7</th>\n",
       "      <td>foo</td>\n",
       "      <td>three</td>\n",
       "      <td>-0.750973</td>\n",
       "      <td>-0.871977</td>\n",
       "    </tr>\n",
       "  </tbody>\n",
       "</table>\n",
       "</div>"
      ],
      "text/plain": [
       "     A      B         C         D\n",
       "0  foo    one -0.347863 -0.069466\n",
       "1  bar    one -0.469117 -2.533820\n",
       "2  foo    two  0.107545  0.640042\n",
       "3  bar  three -1.784074 -1.192285\n",
       "4  foo    two -0.963568 -0.585259\n",
       "5  bar    two -1.731198 -0.838760\n",
       "6  foo    one -1.493573  0.104133\n",
       "7  foo  three -0.750973 -0.871977"
      ]
     },
     "execution_count": 15,
     "metadata": {},
     "output_type": "execute_result"
    }
   ],
   "source": [
    "df"
   ]
  },
  {
   "cell_type": "code",
   "execution_count": 27,
   "metadata": {
    "collapsed": false
   },
   "outputs": [
    {
     "data": {
      "text/html": [
       "<div>\n",
       "<table border=\"1\" class=\"dataframe\">\n",
       "  <thead>\n",
       "    <tr style=\"text-align: right;\">\n",
       "      <th></th>\n",
       "      <th>A</th>\n",
       "      <th>B</th>\n",
       "      <th>C</th>\n",
       "      <th>D</th>\n",
       "    </tr>\n",
       "  </thead>\n",
       "  <tbody>\n",
       "    <tr>\n",
       "      <th>0</th>\n",
       "      <td>foo</td>\n",
       "      <td>one</td>\n",
       "      <td>-0.347863</td>\n",
       "      <td>-0.069466</td>\n",
       "    </tr>\n",
       "    <tr>\n",
       "      <th>1</th>\n",
       "      <td>bar</td>\n",
       "      <td>one</td>\n",
       "      <td>-0.469117</td>\n",
       "      <td>-2.533820</td>\n",
       "    </tr>\n",
       "    <tr>\n",
       "      <th>2</th>\n",
       "      <td>foo</td>\n",
       "      <td>two</td>\n",
       "      <td>0.107545</td>\n",
       "      <td>0.640042</td>\n",
       "    </tr>\n",
       "    <tr>\n",
       "      <th>3</th>\n",
       "      <td>bar</td>\n",
       "      <td>three</td>\n",
       "      <td>-1.784074</td>\n",
       "      <td>-1.192285</td>\n",
       "    </tr>\n",
       "    <tr>\n",
       "      <th>4</th>\n",
       "      <td>foo</td>\n",
       "      <td>two</td>\n",
       "      <td>-0.963568</td>\n",
       "      <td>-0.585259</td>\n",
       "    </tr>\n",
       "    <tr>\n",
       "      <th>5</th>\n",
       "      <td>bar</td>\n",
       "      <td>two</td>\n",
       "      <td>-1.731198</td>\n",
       "      <td>-0.838760</td>\n",
       "    </tr>\n",
       "    <tr>\n",
       "      <th>6</th>\n",
       "      <td>foo</td>\n",
       "      <td>one</td>\n",
       "      <td>-1.493573</td>\n",
       "      <td>0.104133</td>\n",
       "    </tr>\n",
       "    <tr>\n",
       "      <th>7</th>\n",
       "      <td>foo</td>\n",
       "      <td>three</td>\n",
       "      <td>-0.750973</td>\n",
       "      <td>-0.871977</td>\n",
       "    </tr>\n",
       "  </tbody>\n",
       "</table>\n",
       "</div>"
      ],
      "text/plain": [
       "     A      B         C         D\n",
       "0  foo    one -0.347863 -0.069466\n",
       "1  bar    one -0.469117 -2.533820\n",
       "2  foo    two  0.107545  0.640042\n",
       "3  bar  three -1.784074 -1.192285\n",
       "4  foo    two -0.963568 -0.585259\n",
       "5  bar    two -1.731198 -0.838760\n",
       "6  foo    one -1.493573  0.104133\n",
       "7  foo  three -0.750973 -0.871977"
      ]
     },
     "execution_count": 27,
     "metadata": {},
     "output_type": "execute_result"
    }
   ],
   "source": [
    "df"
   ]
  },
  {
   "cell_type": "code",
   "execution_count": 31,
   "metadata": {
    "collapsed": false
   },
   "outputs": [
    {
     "data": {
      "text/html": [
       "<div>\n",
       "<table border=\"1\" class=\"dataframe\">\n",
       "  <thead>\n",
       "    <tr style=\"text-align: right;\">\n",
       "      <th></th>\n",
       "      <th>C</th>\n",
       "    </tr>\n",
       "    <tr>\n",
       "      <th>A</th>\n",
       "      <th></th>\n",
       "    </tr>\n",
       "  </thead>\n",
       "  <tbody>\n",
       "    <tr>\n",
       "      <th>bar</th>\n",
       "      <td>-3.984388</td>\n",
       "    </tr>\n",
       "    <tr>\n",
       "      <th>foo</th>\n",
       "      <td>-3.448432</td>\n",
       "    </tr>\n",
       "  </tbody>\n",
       "</table>\n",
       "</div>"
      ],
      "text/plain": [
       "            C\n",
       "A            \n",
       "bar -3.984388\n",
       "foo -3.448432"
      ]
     },
     "execution_count": 31,
     "metadata": {},
     "output_type": "execute_result"
    }
   ],
   "source": [
    "df[['A','C']].groupby(['A']).sum()"
   ]
  },
  {
   "cell_type": "code",
   "execution_count": 29,
   "metadata": {
    "collapsed": false
   },
   "outputs": [
    {
     "data": {
      "text/html": [
       "<div>\n",
       "<table border=\"1\" class=\"dataframe\">\n",
       "  <thead>\n",
       "    <tr style=\"text-align: right;\">\n",
       "      <th></th>\n",
       "      <th>C</th>\n",
       "    </tr>\n",
       "    <tr>\n",
       "      <th>A</th>\n",
       "      <th></th>\n",
       "    </tr>\n",
       "  </thead>\n",
       "  <tbody>\n",
       "    <tr>\n",
       "      <th>bar</th>\n",
       "      <td>-1.328129</td>\n",
       "    </tr>\n",
       "    <tr>\n",
       "      <th>foo</th>\n",
       "      <td>-0.689686</td>\n",
       "    </tr>\n",
       "  </tbody>\n",
       "</table>\n",
       "</div>"
      ],
      "text/plain": [
       "            C\n",
       "A            \n",
       "bar -1.328129\n",
       "foo -0.689686"
      ]
     },
     "execution_count": 29,
     "metadata": {},
     "output_type": "execute_result"
    }
   ],
   "source": [
    "df[['A','C']].groupby(['A']).mean()"
   ]
  },
  {
   "cell_type": "code",
   "execution_count": 32,
   "metadata": {
    "collapsed": false
   },
   "outputs": [],
   "source": [
    " s = pd.Series(list('abca'))"
   ]
  },
  {
   "cell_type": "code",
   "execution_count": 33,
   "metadata": {
    "collapsed": false
   },
   "outputs": [
    {
     "data": {
      "text/plain": [
       "0    a\n",
       "1    b\n",
       "2    c\n",
       "3    a\n",
       "dtype: object"
      ]
     },
     "execution_count": 33,
     "metadata": {},
     "output_type": "execute_result"
    }
   ],
   "source": [
    "s"
   ]
  },
  {
   "cell_type": "code",
   "execution_count": 41,
   "metadata": {
    "collapsed": true
   },
   "outputs": [],
   "source": [
    "ix3 = pd.MultiIndex.from_arrays([['a', 'a', 'a', 'a', 'b', 'b', 'b', 'b'], ['foo', 'foo', 'bar', 'bar', 'foo', 'foo', 'bar', 'bar']], \\\n",
    "                                names=['letter', 'word'])\n",
    "df3 = pd.DataFrame({'data1': [3, 2, 4, 3, 2, 4, 3, 2], 'data2': [6, 5, 7, 5, 4, 5, 6, 5]}, index=ix3)\n",
    "gp3 = df3.groupby(level=('letter', 'word'))"
   ]
  },
  {
   "cell_type": "code",
   "execution_count": 45,
   "metadata": {
    "collapsed": false,
    "scrolled": false
   },
   "outputs": [
    {
     "data": {
      "text/html": [
       "<div>\n",
       "<table border=\"1\" class=\"dataframe\">\n",
       "  <thead>\n",
       "    <tr style=\"text-align: right;\">\n",
       "      <th></th>\n",
       "      <th></th>\n",
       "      <th>data1</th>\n",
       "      <th>data2</th>\n",
       "    </tr>\n",
       "    <tr>\n",
       "      <th>letter</th>\n",
       "      <th>word</th>\n",
       "      <th></th>\n",
       "      <th></th>\n",
       "    </tr>\n",
       "  </thead>\n",
       "  <tbody>\n",
       "    <tr>\n",
       "      <th rowspan=\"2\" valign=\"top\">a</th>\n",
       "      <th>bar</th>\n",
       "      <td>3.5</td>\n",
       "      <td>6.0</td>\n",
       "    </tr>\n",
       "    <tr>\n",
       "      <th>foo</th>\n",
       "      <td>2.5</td>\n",
       "      <td>5.5</td>\n",
       "    </tr>\n",
       "    <tr>\n",
       "      <th rowspan=\"2\" valign=\"top\">b</th>\n",
       "      <th>bar</th>\n",
       "      <td>2.5</td>\n",
       "      <td>5.5</td>\n",
       "    </tr>\n",
       "    <tr>\n",
       "      <th>foo</th>\n",
       "      <td>3.0</td>\n",
       "      <td>4.5</td>\n",
       "    </tr>\n",
       "  </tbody>\n",
       "</table>\n",
       "</div>"
      ],
      "text/plain": [
       "             data1  data2\n",
       "letter word              \n",
       "a      bar     3.5    6.0\n",
       "       foo     2.5    5.5\n",
       "b      bar     2.5    5.5\n",
       "       foo     3.0    4.5"
      ]
     },
     "execution_count": 45,
     "metadata": {},
     "output_type": "execute_result"
    }
   ],
   "source": [
    "gp3.mean()"
   ]
  },
  {
   "cell_type": "code",
   "execution_count": 48,
   "metadata": {
    "collapsed": false
   },
   "outputs": [
    {
     "data": {
      "text/html": [
       "<div>\n",
       "<table border=\"1\" class=\"dataframe\">\n",
       "  <thead>\n",
       "    <tr style=\"text-align: right;\">\n",
       "      <th></th>\n",
       "      <th></th>\n",
       "      <th>data1</th>\n",
       "      <th>data2</th>\n",
       "    </tr>\n",
       "    <tr>\n",
       "      <th>letter</th>\n",
       "      <th>word</th>\n",
       "      <th></th>\n",
       "      <th></th>\n",
       "    </tr>\n",
       "  </thead>\n",
       "  <tbody>\n",
       "    <tr>\n",
       "      <th rowspan=\"2\" valign=\"top\">a</th>\n",
       "      <th>bar</th>\n",
       "      <td>0.707107</td>\n",
       "      <td>1.414214</td>\n",
       "    </tr>\n",
       "    <tr>\n",
       "      <th>foo</th>\n",
       "      <td>0.707107</td>\n",
       "      <td>0.707107</td>\n",
       "    </tr>\n",
       "    <tr>\n",
       "      <th rowspan=\"2\" valign=\"top\">b</th>\n",
       "      <th>bar</th>\n",
       "      <td>0.707107</td>\n",
       "      <td>0.707107</td>\n",
       "    </tr>\n",
       "    <tr>\n",
       "      <th>foo</th>\n",
       "      <td>1.414214</td>\n",
       "      <td>0.707107</td>\n",
       "    </tr>\n",
       "  </tbody>\n",
       "</table>\n",
       "</div>"
      ],
      "text/plain": [
       "                data1     data2\n",
       "letter word                    \n",
       "a      bar   0.707107  1.414214\n",
       "       foo   0.707107  0.707107\n",
       "b      bar   0.707107  0.707107\n",
       "       foo   1.414214  0.707107"
      ]
     },
     "execution_count": 48,
     "metadata": {},
     "output_type": "execute_result"
    }
   ],
   "source": [
    "gp3.std()"
   ]
  },
  {
   "cell_type": "code",
   "execution_count": 46,
   "metadata": {
    "collapsed": false,
    "scrolled": true
   },
   "outputs": [
    {
     "data": {
      "text/html": [
       "<div>\n",
       "<table border=\"1\" class=\"dataframe\">\n",
       "  <thead>\n",
       "    <tr style=\"text-align: right;\">\n",
       "      <th></th>\n",
       "      <th></th>\n",
       "      <th>data1</th>\n",
       "      <th>data2</th>\n",
       "    </tr>\n",
       "    <tr>\n",
       "      <th>letter</th>\n",
       "      <th>word</th>\n",
       "      <th></th>\n",
       "      <th></th>\n",
       "    </tr>\n",
       "  </thead>\n",
       "  <tbody>\n",
       "    <tr>\n",
       "      <th rowspan=\"4\" valign=\"top\">a</th>\n",
       "      <th>foo</th>\n",
       "      <td>3</td>\n",
       "      <td>6</td>\n",
       "    </tr>\n",
       "    <tr>\n",
       "      <th>foo</th>\n",
       "      <td>2</td>\n",
       "      <td>5</td>\n",
       "    </tr>\n",
       "    <tr>\n",
       "      <th>bar</th>\n",
       "      <td>4</td>\n",
       "      <td>7</td>\n",
       "    </tr>\n",
       "    <tr>\n",
       "      <th>bar</th>\n",
       "      <td>3</td>\n",
       "      <td>5</td>\n",
       "    </tr>\n",
       "    <tr>\n",
       "      <th rowspan=\"4\" valign=\"top\">b</th>\n",
       "      <th>foo</th>\n",
       "      <td>2</td>\n",
       "      <td>4</td>\n",
       "    </tr>\n",
       "    <tr>\n",
       "      <th>foo</th>\n",
       "      <td>4</td>\n",
       "      <td>5</td>\n",
       "    </tr>\n",
       "    <tr>\n",
       "      <th>bar</th>\n",
       "      <td>3</td>\n",
       "      <td>6</td>\n",
       "    </tr>\n",
       "    <tr>\n",
       "      <th>bar</th>\n",
       "      <td>2</td>\n",
       "      <td>5</td>\n",
       "    </tr>\n",
       "  </tbody>\n",
       "</table>\n",
       "</div>"
      ],
      "text/plain": [
       "             data1  data2\n",
       "letter word              \n",
       "a      foo       3      6\n",
       "       foo       2      5\n",
       "       bar       4      7\n",
       "       bar       3      5\n",
       "b      foo       2      4\n",
       "       foo       4      5\n",
       "       bar       3      6\n",
       "       bar       2      5"
      ]
     },
     "execution_count": 46,
     "metadata": {},
     "output_type": "execute_result"
    }
   ],
   "source": [
    "gp3.tail()"
   ]
  },
  {
   "cell_type": "code",
   "execution_count": 54,
   "metadata": {
    "collapsed": true
   },
   "outputs": [],
   "source": [
    "fig?"
   ]
  },
  {
   "cell_type": "code",
   "execution_count": 61,
   "metadata": {
    "collapsed": false
   },
   "outputs": [
    {
     "data": {
      "image/png": "[encoded data removed]",
      "text/plain": [
       "<matplotlib.figure.Figure at 0x7fb6690b8490>"
      ]
     },
     "metadata": {},
     "output_type": "display_data"
    }
   ],
   "source": [
    "fig = plt.figure()\n",
    "ax = fig.add_axes([0.1, 0.1, 0.9, 0.9])"
   ]
  },
  {
   "cell_type": "code",
   "execution_count": 91,
   "metadata": {
    "collapsed": false
   },
   "outputs": [
    {
     "data": {
      "text/plain": [
       "(-0.4, 2)"
      ]
     },
     "execution_count": 91,
     "metadata": {},
     "output_type": "execute_result"
    },
    {
     "data": {
      "image/png": "[encoded data removed]",
      "text/plain": [
       "<matplotlib.figure.Figure at 0x7fb668d91690>"
      ]
     },
     "metadata": {},
     "output_type": "display_data"
    }
   ],
   "source": [
    "fig1 = plt.figure()\n",
    "ax1 = fig1.add_axes([0.1, 0.1, 0.8, 0.8])\n",
    "\n",
    "a = ax1.plot([0, 1], [0,1])\n",
    "title = ax1.set_title('a straignt line')\n",
    "x_label = ax1.set_xlabel('x')\n",
    "y_label = ax1.set_ylabel('y')\n",
    "\n",
    "#ax2 = fig1.add_axes([0.2, 0.2, 0.6, 0.6]) #ax2会覆盖ax1\n",
    "\n",
    "ax1.set_xlim(-0.5, 2)\n",
    "ax1.set_ylim(-0.4, 2)"
   ]
  },
  {
   "cell_type": "code",
   "execution_count": 96,
   "metadata": {
    "collapsed": false
   },
   "outputs": [
    {
     "data": {
      "image/png": "[encoded data removed]",
      "text/plain": [
       "<matplotlib.figure.Figure at 0x7fb668836910>"
      ]
     },
     "metadata": {},
     "output_type": "display_data"
    }
   ],
   "source": [
    "fig, (ax1, ax2) = plt.subplots(1, 2, figsize = (10,4))"
   ]
  },
  {
   "cell_type": "code",
   "execution_count": 82,
   "metadata": {
    "collapsed": false
   },
   "outputs": [
    {
     "data": {
      "text/plain": [
       "<matplotlib.axes._axes.Axes at 0x7fb668f23710>"
      ]
     },
     "execution_count": 82,
     "metadata": {},
     "output_type": "execute_result"
    }
   ],
   "source": [
    "fig1.axes[0]"
   ]
  },
  {
   "cell_type": "code",
   "execution_count": 63,
   "metadata": {
    "collapsed": false,
    "scrolled": true
   },
   "outputs": [
    {
     "data": {
      "image/png": "[encoded data removed]",
      "text/plain": [
       "<matplotlib.figure.Figure at 0x7fb66b50c2d0>"
      ]
     },
     "metadata": {},
     "output_type": "display_data"
    }
   ],
   "source": [
    "fig2 = plt.figure()\n",
    "ax2 = fig2.add_axes([0.1, 0.1, 1.1, 1.1])"
   ]
  },
  {
   "cell_type": "code",
   "execution_count": 107,
   "metadata": {
    "collapsed": false
   },
   "outputs": [],
   "source": [
    "df = pd.DataFrame({'a':[1, 2,3, 4,4, 5,5]})"
   ]
  },
  {
   "cell_type": "code",
   "execution_count": 110,
   "metadata": {
    "collapsed": false
   },
   "outputs": [
    {
     "data": {
      "text/html": [
       "<div>\n",
       "<table border=\"1\" class=\"dataframe\">\n",
       "  <thead>\n",
       "    <tr style=\"text-align: right;\">\n",
       "      <th></th>\n",
       "      <th>a</th>\n",
       "    </tr>\n",
       "  </thead>\n",
       "  <tbody>\n",
       "    <tr>\n",
       "      <th>0</th>\n",
       "      <td>1</td>\n",
       "    </tr>\n",
       "    <tr>\n",
       "      <th>1</th>\n",
       "      <td>2</td>\n",
       "    </tr>\n",
       "    <tr>\n",
       "      <th>2</th>\n",
       "      <td>3</td>\n",
       "    </tr>\n",
       "    <tr>\n",
       "      <th>3</th>\n",
       "      <td>4</td>\n",
       "    </tr>\n",
       "    <tr>\n",
       "      <th>4</th>\n",
       "      <td>4</td>\n",
       "    </tr>\n",
       "    <tr>\n",
       "      <th>5</th>\n",
       "      <td>5</td>\n",
       "    </tr>\n",
       "    <tr>\n",
       "      <th>6</th>\n",
       "      <td>5</td>\n",
       "    </tr>\n",
       "  </tbody>\n",
       "</table>\n",
       "</div>"
      ],
      "text/plain": [
       "   a\n",
       "0  1\n",
       "1  2\n",
       "2  3\n",
       "3  4\n",
       "4  4\n",
       "5  5\n",
       "6  5"
      ]
     },
     "execution_count": 110,
     "metadata": {},
     "output_type": "execute_result"
    }
   ],
   "source": [
    "df"
   ]
  },
  {
   "cell_type": "code",
   "execution_count": 111,
   "metadata": {
    "collapsed": false
   },
   "outputs": [
    {
     "data": {
      "text/html": [
       "<div>\n",
       "<table border=\"1\" class=\"dataframe\">\n",
       "  <thead>\n",
       "    <tr style=\"text-align: right;\">\n",
       "      <th></th>\n",
       "      <th>a</th>\n",
       "    </tr>\n",
       "  </thead>\n",
       "  <tbody>\n",
       "    <tr>\n",
       "      <th>0</th>\n",
       "      <td>1</td>\n",
       "    </tr>\n",
       "    <tr>\n",
       "      <th>1</th>\n",
       "      <td>2</td>\n",
       "    </tr>\n",
       "    <tr>\n",
       "      <th>2</th>\n",
       "      <td>3</td>\n",
       "    </tr>\n",
       "    <tr>\n",
       "      <th>3</th>\n",
       "      <td>4</td>\n",
       "    </tr>\n",
       "    <tr>\n",
       "      <th>4</th>\n",
       "      <td>4</td>\n",
       "    </tr>\n",
       "    <tr>\n",
       "      <th>5</th>\n",
       "      <td>5</td>\n",
       "    </tr>\n",
       "    <tr>\n",
       "      <th>6</th>\n",
       "      <td>5</td>\n",
       "    </tr>\n",
       "  </tbody>\n",
       "</table>\n",
       "</div>"
      ],
      "text/plain": [
       "   a\n",
       "0  1\n",
       "1  2\n",
       "2  3\n",
       "3  4\n",
       "4  4\n",
       "5  5\n",
       "6  5"
      ]
     },
     "execution_count": 111,
     "metadata": {},
     "output_type": "execute_result"
    }
   ],
   "source": [
    "pd.get_dummies(df)"
   ]
  },
  {
   "cell_type": "code",
   "execution_count": 112,
   "metadata": {
    "collapsed": false
   },
   "outputs": [
    {
     "data": {
      "text/html": [
       "<div>\n",
       "<table border=\"1\" class=\"dataframe\">\n",
       "  <thead>\n",
       "    <tr style=\"text-align: right;\">\n",
       "      <th></th>\n",
       "      <th>1</th>\n",
       "      <th>2</th>\n",
       "      <th>3</th>\n",
       "      <th>4</th>\n",
       "      <th>5</th>\n",
       "    </tr>\n",
       "  </thead>\n",
       "  <tbody>\n",
       "    <tr>\n",
       "      <th>0</th>\n",
       "      <td>1.0</td>\n",
       "      <td>0.0</td>\n",
       "      <td>0.0</td>\n",
       "      <td>0.0</td>\n",
       "      <td>0.0</td>\n",
       "    </tr>\n",
       "    <tr>\n",
       "      <th>1</th>\n",
       "      <td>0.0</td>\n",
       "      <td>1.0</td>\n",
       "      <td>0.0</td>\n",
       "      <td>0.0</td>\n",
       "      <td>0.0</td>\n",
       "    </tr>\n",
       "    <tr>\n",
       "      <th>2</th>\n",
       "      <td>0.0</td>\n",
       "      <td>0.0</td>\n",
       "      <td>1.0</td>\n",
       "      <td>0.0</td>\n",
       "      <td>0.0</td>\n",
       "    </tr>\n",
       "    <tr>\n",
       "      <th>3</th>\n",
       "      <td>0.0</td>\n",
       "      <td>0.0</td>\n",
       "      <td>0.0</td>\n",
       "      <td>1.0</td>\n",
       "      <td>0.0</td>\n",
       "    </tr>\n",
       "    <tr>\n",
       "      <th>4</th>\n",
       "      <td>0.0</td>\n",
       "      <td>0.0</td>\n",
       "      <td>0.0</td>\n",
       "      <td>1.0</td>\n",
       "      <td>0.0</td>\n",
       "    </tr>\n",
       "    <tr>\n",
       "      <th>5</th>\n",
       "      <td>0.0</td>\n",
       "      <td>0.0</td>\n",
       "      <td>0.0</td>\n",
       "      <td>0.0</td>\n",
       "      <td>1.0</td>\n",
       "    </tr>\n",
       "    <tr>\n",
       "      <th>6</th>\n",
       "      <td>0.0</td>\n",
       "      <td>0.0</td>\n",
       "      <td>0.0</td>\n",
       "      <td>0.0</td>\n",
       "      <td>1.0</td>\n",
       "    </tr>\n",
       "  </tbody>\n",
       "</table>\n",
       "</div>"
      ],
      "text/plain": [
       "     1    2    3    4    5\n",
       "0  1.0  0.0  0.0  0.0  0.0\n",
       "1  0.0  1.0  0.0  0.0  0.0\n",
       "2  0.0  0.0  1.0  0.0  0.0\n",
       "3  0.0  0.0  0.0  1.0  0.0\n",
       "4  0.0  0.0  0.0  1.0  0.0\n",
       "5  0.0  0.0  0.0  0.0  1.0\n",
       "6  0.0  0.0  0.0  0.0  1.0"
      ]
     },
     "execution_count": 112,
     "metadata": {},
     "output_type": "execute_result"
    }
   ],
   "source": [
    "pd.get_dummies(df['a'])"
   ]
  },
  {
   "cell_type": "code",
   "execution_count": 113,
   "metadata": {
    "collapsed": true
   },
   "outputs": [],
   "source": [
    "import sklearn as skl"
   ]
  },
  {
   "cell_type": "code",
   "execution_count": 114,
   "metadata": {
    "collapsed": false
   },
   "outputs": [
    {
     "data": {
      "text/plain": [
       "<function sklearn.setup_module>"
      ]
     },
     "execution_count": 114,
     "metadata": {},
     "output_type": "execute_result"
    }
   ],
   "source": [
    "skl.setup_module"
   ]
  },
  {
   "cell_type": "code",
   "execution_count": 2,
   "metadata": {
    "collapsed": true
   },
   "outputs": [],
   "source": [
    "import sklearn.datasets\n",
    "from sklearn.linear_model import LogisticRegression"
   ]
  },
  {
   "cell_type": "code",
   "execution_count": 2,
   "metadata": {
    "collapsed": true
   },
   "outputs": [],
   "source": [
    "##################################\n",
    "#logistic regression"
   ]
  },
  {
   "cell_type": "code",
   "execution_count": 3,
   "metadata": {
    "collapsed": false
   },
   "outputs": [
    {
     "data": {
      "image/png": "[encoded data removed]",
      "text/plain": [
       "<matplotlib.figure.Figure at 0x7f29c3a973d0>"
      ]
     },
     "metadata": {},
     "output_type": "display_data"
    }
   ],
   "source": [
    "centers = [[-5, 0], [0, 1.5], [5, -1]]\n",
    "X, y = sklearn.datasets.make_blobs(n_samples=1000, centers=centers, random_state=40)\n",
    "\n",
    "transformation = [[0.4, 0.2], [-0.4, 1.2]]\n",
    "\n",
    "fig, (ax1, ax2) = plt.subplots(1,2, figsize = (10, 5))\n",
    "sca1 = ax1.scatter(X[:, 0], X[:, 1])\n",
    "ax1.set_xlim(-10,10)\n",
    "ax1.set_ylim(-10,10)\n",
    "X1 = np.dot(X, transformation)\n",
    "sca2 = ax2.scatter(X1[:, 0], X1[:, 1])"
   ]
  },
  {
   "cell_type": "code",
   "execution_count": 101,
   "metadata": {
    "collapsed": false,
    "scrolled": false
   },
   "outputs": [
    {
     "name": "stdout",
     "output_type": "stream",
     "text": [
      "training score : 0.976 (ovr)\n"
     ]
    },
    {
     "data": {
      "text/plain": [
       "[<matplotlib.lines.Line2D at 0x7f06249d41d0>]"
      ]
     },
     "execution_count": 101,
     "metadata": {},
     "output_type": "execute_result"
    },
    {
     "data": {
      "image/png": "[encoded data removed]",
      "text/plain": [
       "<matplotlib.figure.Figure at 0x7f0624c33b50>"
      ]
     },
     "metadata": {},
     "output_type": "display_data"
    }
   ],
   "source": [
    "logreg = LogisticRegression(solver='sag', max_iter=100, random_state=42,\n",
    "                         multi_class='ovr')\n",
    "clf = logreg.fit(X1, y)\n",
    "print 'training score : %.3f (%s)' % (clf.score(X1, y), 'ovr')\n",
    "\n",
    "h = .02  # step size in the mesh\n",
    "x_min, x_max = X1[:, 0].min() - 1, X1[:, 0].max() + 1\n",
    "y_min, y_max = X1[:, 1].min() - 1, X1[:, 1].max() + 1\n",
    "\n",
    "xx, yy = np.meshgrid(np.arange(x_min, x_max, h), np.arange(y_min, y_max, h))\n",
    "\n",
    "Z = clf.predict(np.c_[xx.ravel(), yy.ravel()])\n",
    "\n",
    "Z = Z.reshape(xx.shape)\n",
    "\n",
    "fig = plt.figure()\n",
    "axis = fig.add_axes([0,0,1,1])\n",
    "axis.contourf(xx, yy, Z, cmap=plt.cm.Paired)\n",
    "axis.set_title(\"Decision surface of LogisticRegression (%s)\" % 'ovr')\n",
    "axis.set_xlim(x_min, x_max)\n",
    "axis.set_ylim(y_min, y_max)\n",
    "axis.scatter(X1[y==0, 0], X1[y==0, 1], c = 'b')\n",
    "axis.scatter(X1[y==1, 0], X1[y==1, 1], c = 'r')\n",
    "axis.scatter(X1[y==2, 0], X1[y==2, 1], c = 'y')\n",
    "\n",
    "x_hyp = np.arange(x_min, x_max, h)\n",
    "y_hyp = (-1 * x_hyp * logreg.coef_[0, 0] - logreg.intercept_[0]) / logreg.coef_[0, 1]\n",
    "axis.plot(x_hyp, y_hyp, ls = '--', c = 'b')\n",
    "#x_hyp = np.arange(x_min, x_max, h)\n",
    "y_hyp = (-1 * x_hyp * logreg.coef_[1, 0] - logreg.intercept_[1]) / logreg.coef_[1, 1]\n",
    "axis.plot(x_hyp, y_hyp, ls = '--', c = 'r')\n",
    "x_hyp = np.arange(x_min, x_max, h)\n",
    "y_hyp = (-1 * x_hyp * logreg.coef_[2, 0] - logreg.intercept_[2]) / logreg.coef_[2, 1]\n",
    "axis.plot(x_hyp, y_hyp, ls = '--', c = 'y')\n",
    "\n",
    "y_hyp = (-1 * (logreg.coef_[0, 0] - logreg.coef_[1, 0]) * x_hyp - (logreg.intercept_[0] - logreg.intercept_[1])) \\\n",
    "            / (logreg.coef_[0, 1] - logreg.coef_[1,1])\n",
    "axis.plot(x_hyp, y_hyp, ls = '-', c = 'b')\n",
    "\n",
    "y_hyp = (-1 * (logreg.coef_[0, 0] - logreg.coef_[2, 0]) * x_hyp - (logreg.intercept_[0] - logreg.intercept_[2])) \\\n",
    "            / (logreg.coef_[0, 1] - logreg.coef_[2,1])\n",
    "axis.plot(x_hyp, y_hyp, ls = '-', c = 'y')\n",
    "\n",
    "y_hyp = (-1 * (logreg.coef_[2, 0] - logreg.coef_[1, 0]) * x_hyp - (logreg.intercept_[2] - logreg.intercept_[1])) \\\n",
    "            / (logreg.coef_[2, 1] - logreg.coef_[1,1])\n",
    "axis.plot(x_hyp, y_hyp, ls = '-', c = 'r')\n",
    "#图说明\n",
    "#虚线是一对多的决策边界，由系数决定的边界\n",
    "#首先两两之间的决策边界"
   ]
  },
  {
   "cell_type": "code",
   "execution_count": 95,
   "metadata": {
    "collapsed": false
   },
   "outputs": [
    {
     "data": {
      "text/plain": [
       "array([-4.61020975, -1.91396323, -4.17213317])"
      ]
     },
     "execution_count": 95,
     "metadata": {},
     "output_type": "execute_result"
    }
   ],
   "source": [
    "logreg.intercept_"
   ]
  },
  {
   "cell_type": "code",
   "execution_count": 86,
   "metadata": {
    "collapsed": false
   },
   "outputs": [
    {
     "data": {
      "text/plain": [
       "array([[-4.41615534, -2.23077034],\n",
       "       [-0.36796618,  1.64022091],\n",
       "       [ 4.7027708 ,  0.18133443]])"
      ]
     },
     "execution_count": 86,
     "metadata": {},
     "output_type": "execute_result"
    }
   ],
   "source": [
    "logreg.coef_"
   ]
  },
  {
   "cell_type": "code",
   "execution_count": 157,
   "metadata": {
    "collapsed": false
   },
   "outputs": [
    {
     "name": "stdout",
     "output_type": "stream",
     "text": [
      "0.00511543749812 0.104183805168 0.0373372213794\n",
      "0.0348851667382\n",
      "0.710490435282\n",
      "0.25462439798\n"
     ]
    }
   ],
   "source": [
    "exp1 = 1.0 / (1 + np.exp(-1 * test1[0, 0] * logreg.coef_[0,0] -  test1[0, 1] * logreg.coef_[0, 1] - logreg.intercept_[0]))\n",
    "exp2 = 1.0 / (1 + np.exp(-1 * test1[0, 0] * logreg.coef_[1,0] -  test1[0, 1] * logreg.coef_[1, 1] - logreg.intercept_[1]))\n",
    "exp3 = 1.0 / (1 + np.exp(-1 * test1[0, 0] * logreg.coef_[2,0] -  test1[0, 1] * logreg.coef_[2, 1] - logreg.intercept_[2]))\n",
    "print exp1, exp2, exp3\n",
    "print exp1 / (exp1 + exp2 + exp3)\n",
    "print exp2 / (exp1 + exp2 + exp3)\n",
    "print exp3 / (exp1 + exp2 + exp3)"
   ]
  },
  {
   "cell_type": "code",
   "execution_count": 156,
   "metadata": {
    "collapsed": false
   },
   "outputs": [
    {
     "name": "stdout",
     "output_type": "stream",
     "text": [
      "[[ 0.03488517  0.71049044  0.2546244 ]] [1]\n",
      "1.0\n"
     ]
    }
   ],
   "source": [
    "# 测试某样本属于各个类的概率之和是否不为1，原本不为1的，这里强行置1\n",
    "test1 = np.array([[0.2, -0.1]])\n",
    "prob = logreg.predict_proba(test1)\n",
    "y_label = logreg.predict(test1)\n",
    "print prob, y_label\n",
    "print prob.sum()"
   ]
  },
  {
   "cell_type": "code",
   "execution_count": 4,
   "metadata": {
    "collapsed": false,
    "scrolled": true
   },
   "outputs": [
    {
     "name": "stdout",
     "output_type": "stream",
     "text": [
      "training score : 0.995 (multinomial)\n"
     ]
    },
    {
     "data": {
      "text/plain": [
       "[<matplotlib.lines.Line2D at 0x7f29c07fd390>]"
      ]
     },
     "execution_count": 4,
     "metadata": {},
     "output_type": "execute_result"
    },
    {
     "data": {
      "image/png": "[encoded data removed]",
      "text/plain": [
       "<matplotlib.figure.Figure at 0x7f29d7736650>"
      ]
     },
     "metadata": {},
     "output_type": "display_data"
    }
   ],
   "source": [
    "logreg1 = LogisticRegression(solver='sag', max_iter=100, random_state=42,\n",
    "                         multi_class='multinomial')\n",
    "clf = logreg1.fit(X1, y)\n",
    "print 'training score : %.3f (%s)' % (clf.score(X1, y), 'multinomial')\n",
    "\n",
    "h = .02  # step size in the mesh\n",
    "x_min, x_max = X1[:, 0].min() - 1, X1[:, 0].max() + 1\n",
    "y_min, y_max = X1[:, 1].min() - 1, X1[:, 1].max() + 1\n",
    "\n",
    "xx, yy = np.meshgrid(np.arange(x_min, x_max, h), np.arange(y_min, y_max, h))\n",
    "\n",
    "Z = clf.predict(np.c_[xx.ravel(), yy.ravel()])\n",
    "\n",
    "Z = Z.reshape(xx.shape)\n",
    "\n",
    "fig = plt.figure()\n",
    "axis = fig.add_axes([0,0,1,1])\n",
    "axis.contourf(xx, yy, Z, cmap=plt.cm.Paired)\n",
    "axis.set_xlim(x_min, x_max)\n",
    "axis.set_ylim(y_min, y_max)\n",
    "axis.set_title(\"Decision surface of LogisticRegression (%s)\" % 'ovr')\n",
    "axis.scatter(X1[y==0, 0], X1[y==0, 1], c = 'b')\n",
    "axis.scatter(X1[y==1, 0], X1[y==1, 1], c = 'r')\n",
    "axis.scatter(X1[y==2, 0], X1[y==2, 1], c = 'y')\n",
    "\n",
    "x_hyp = np.arange(x_min, x_max, h)\n",
    "y_hyp = (-1 * x_hyp * logreg1.coef_[0, 0] - logreg1.intercept_[0]) / logreg1.coef_[0, 1]\n",
    "axis.plot(x_hyp, y_hyp, ls = '--', c = 'b')\n",
    "#x_hyp = np.arange(x_min, x_max, h)\n",
    "y_hyp = (-1 * x_hyp * logreg1.coef_[1, 0] - logreg1.intercept_[1]) / logreg1.coef_[1, 1]\n",
    "axis.plot(x_hyp, y_hyp, ls = '--', c = 'r')\n",
    "x_hyp = np.arange(x_min, x_max, h)\n",
    "y_hyp = (-1 * x_hyp * logreg1.coef_[2, 0] - logreg1.intercept_[2]) / logreg1.coef_[2, 1]\n",
    "axis.plot(x_hyp, y_hyp, ls = '--', c = 'y')\n",
    "#由系数决定的边界本身就交于一点，虚线所示\n",
    "y_hyp = (-1 * (logreg1.coef_[0, 0] - logreg1.coef_[1, 0]) * x_hyp - (logreg1.intercept_[0] - logreg1.intercept_[1])) \\\n",
    "            / (logreg1.coef_[0, 1] - logreg1.coef_[1,1])\n",
    "axis.plot(x_hyp, y_hyp, ls = '-', c = 'b')\n",
    "\n",
    "#return\n",
    "y_hyp = (-1 * (logreg1.coef_[0, 0] - logreg1.coef_[2, 0]) * x_hyp - (logreg1.intercept_[0] - logreg1.intercept_[2])) \\\n",
    "            / (logreg1.coef_[0, 1] - logreg1.coef_[2,1])\n",
    "axis.plot(x_hyp, y_hyp, ls = '-', c = 'y')\n",
    "\n",
    "y_hyp = (-1 * (logreg1.coef_[2, 0] - logreg1.coef_[1, 0]) * x_hyp - (logreg1.intercept_[2] - logreg1.intercept_[1])) \\\n",
    "            / (logreg1.coef_[2, 1] - logreg1.coef_[1,1])\n",
    "axis.plot(x_hyp, y_hyp, ls = '-', c = 'r')"
   ]
  },
  {
   "cell_type": "code",
   "execution_count": 102,
   "metadata": {
    "collapsed": false
   },
   "outputs": [
    {
     "data": {
      "text/plain": [
       "array([-1.69953772,  2.89754216, -1.19800443])"
      ]
     },
     "execution_count": 102,
     "metadata": {},
     "output_type": "execute_result"
    }
   ],
   "source": [
    "logreg1.intercept_"
   ]
  },
  {
   "cell_type": "code",
   "execution_count": 87,
   "metadata": {
    "collapsed": false
   },
   "outputs": [
    {
     "data": {
      "text/plain": [
       "array([[-4.51827313, -1.56106962],\n",
       "       [-0.08860005,  0.72634754],\n",
       "       [ 4.60687318,  0.83472208]])"
      ]
     },
     "execution_count": 87,
     "metadata": {},
     "output_type": "execute_result"
    }
   ],
   "source": [
    "logreg1.coef_"
   ]
  },
  {
   "cell_type": "code",
   "execution_count": 151,
   "metadata": {
    "collapsed": false
   },
   "outputs": [
    {
     "name": "stdout",
     "output_type": "stream",
     "text": [
      "[[  3.57029663e-08   2.83929983e-01   7.16069981e-01]] [2]\n",
      "1.0\n",
      "3.57029663321e-08\n",
      "0.283929983123\n",
      "0.716069981174\n"
     ]
    }
   ],
   "source": [
    "# 测试某样本属于各个类的概率之和是否为1\n",
    "test1 = np.array([[1, ]])\n",
    "prob = logreg1.predict_proba(test1)\n",
    "y_label = logreg1.predict(test1)\n",
    "print prob, y_label\n",
    "print prob.sum()\n",
    "\n",
    "exp1 = np.exp(test1[0, 0] * logreg1.coef_[0, 0] + test1[0, 1] * logreg1.coef_[0, 1] + logreg1.intercept_[0])\n",
    "exp2 = np.exp(test1[0, 0] * logreg1.coef_[1, 0] + test1[0, 1] * logreg1.coef_[1, 1] + logreg1.intercept_[1])\n",
    "exp3 = np.exp(test1[0, 0] * logreg1.coef_[2, 0] + test1[0, 1] * logreg1.coef_[2, 1] + logreg1.intercept_[2])\n",
    "print exp1 / (exp1 + exp2 + exp3)\n",
    "print exp2 / (exp1 + exp2 + exp3)\n",
    "print exp3 / (exp1 + exp2 + exp3)"
   ]
  },
  {
   "cell_type": "code",
   "execution_count": 109,
   "metadata": {
    "collapsed": false
   },
   "outputs": [],
   "source": [
    "a = x.ravel()"
   ]
  },
  {
   "cell_type": "code",
   "execution_count": 35,
   "metadata": {
    "collapsed": false
   },
   "outputs": [],
   "source": [
    "a.shape = (1,9)"
   ]
  },
  {
   "cell_type": "code",
   "execution_count": 36,
   "metadata": {
    "collapsed": false
   },
   "outputs": [
    {
     "data": {
      "text/plain": [
       "array([[1, 2, 3, 1, 2, 3, 1, 2, 3]])"
      ]
     },
     "execution_count": 36,
     "metadata": {},
     "output_type": "execute_result"
    }
   ],
   "source": [
    "a"
   ]
  },
  {
   "cell_type": "code",
   "execution_count": null,
   "metadata": {
    "collapsed": true
   },
   "outputs": [],
   "source": []
  }
 ],
 "metadata": {
  "kernelspec": {
   "display_name": "Python [default]",
   "language": "python",
   "name": "python2"
  },
  "language_info": {
   "codemirror_mode": {
    "name": "ipython",
    "version": 2
   },
   "file_extension": ".py",
   "mimetype": "text/x-python",
   "name": "python",
   "nbconvert_exporter": "python",
   "pygments_lexer": "ipython2",
   "version": "2.7.13"
  }
 },
 "nbformat": 4,
 "nbformat_minor": 0
}
