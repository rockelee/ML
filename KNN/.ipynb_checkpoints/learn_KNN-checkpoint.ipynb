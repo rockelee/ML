{
 "cells": [
  {
   "cell_type": "code",
   "execution_count": null,
   "metadata": {
    "collapsed": true
   },
   "outputs": [],
   "source": [
    "%matplotlib inline\n",
    "import numpy as np\n",
    "import operator as oprt\n",
    "import os\n",
    "import matplotlib.pyplot as plt"
   ]
  },
  {
   "cell_type": "code",
   "execution_count": null,
   "metadata": {
    "collapsed": false,
    "scrolled": true
   },
   "outputs": [],
   "source": [
    "def file2matrix(filename):\n",
    "    f = open(filename)\n",
    "    arraylines = f.readlines()\n",
    "    numberoflines = len(arraylines)\n",
    "    returnMat = np.zeros((numberoflines,3))\n",
    "    classlabelvector = []\n",
    "    index = 0\n",
    "    for line in arraylines:\n",
    "        line = line.strip()\n",
    "        listFromeline = line.split('\\t')\n",
    "        listFromeline\n",
    "        returnMat[index,:] = listFromeline[0:3]\n",
    "        classlabelvector.append(int(listFromeline[-1]))\n",
    "        index += 1\n",
    "    return returnMat, classlabelvector\n",
    "\n",
    "def autoNorm(dataMat):\n",
    "    minVals = dataMat.min(0)\n",
    "    maxVals = dataMat.max(0)\n",
    "    ranges = maxVals - minVals\n",
    "    minVals, maxVals, ranges\n",
    "    normDataMat = np.zeros(dataMat.shape)\n",
    "    m = dataMat.shape[0]\n",
    "    normDataMat = dataMat - np.tile(minVals, (m, 1))\n",
    "    normDataMat = normDataMat / np.tile(ranges, (m, 1))\n",
    "    return normDataMat, ranges, minVals\n",
    "\n",
    "def classify0(ind, dataMat, labelMat, k):\n",
    "    m = dataMat.shape[0]\n",
    "    diffMat = np.tile(ind, (m, 1)) - dataMat\n",
    "    sqDiffMat = diffMat**2\n",
    "    sqDistances = sqDiffMat.sum(axis = 1)\n",
    "    sortedDisIndicies = sqDistances.argsort() # 排序，返回顺序对应的索引\n",
    "    classCount = {}\n",
    "    for i in range(k):\n",
    "        voteIlabel = labelMat[ sortedDisIndicies[i] ] \n",
    "        classCount[voteIlabel] = classCount.get(voteIlabel, 0) + 1 # get 表示如果字典中没有此键，则置此键的值为0\n",
    "    sortedClassCount = sorted(classCount.iteritems(), key = oprt.itemgetter(1), reverse = True) #按值排序，降序排序，返回的是列表\n",
    "    return sortedClassCount[0][0]"
   ]
  },
  {
   "cell_type": "code",
   "execution_count": null,
   "metadata": {
    "collapsed": false,
    "scrolled": true
   },
   "outputs": [],
   "source": [
    "# 测试 KNN\n",
    "dataMat, labelMat = file2matrix('datingTestSet2.txt')\n",
    "dataMat = np.array(dataMat)\n",
    "labelMat = np.array(labelMat).transpose()\n",
    "large_data = dataMat[labelMat == 3]\n",
    "small_data = dataMat[labelMat == 2]\n",
    "didnt_data = dataMat[labelMat == 1]\n",
    "\n",
    "plt.figure()\n",
    "plt.plot(large_data[:,1], large_data[:,2], 'bo')\n",
    "plt.plot(small_data[:,1], small_data[:,2], 'go')\n",
    "plt.plot(didnt_data[:,1], didnt_data[:,2], 'ro')\n",
    "plt.figure()\n",
    "plt.plot(large_data[:,0], large_data[:,1], 'bo')\n",
    "plt.plot(small_data[:,0], small_data[:,1], 'go')\n",
    "plt.plot(didnt_data[:,0], didnt_data[:,1], 'ro')\n",
    "\n",
    "hoRatio = 0.1\n",
    "normMat , ranges, minVals = autoNorm(dataMat)\n",
    "m = normMat.shape[0]\n",
    "numTestVecs = int(m * hoRatio)\n",
    "print numTestVecs, m\n",
    "errorCount = 0.0\n",
    "for i in range(numTestVecs):\n",
    "    classifierResult = classify0(normMat[i,:], normMat[numTestVecs:m, :], labelMat[numTestVecs:m], 3)\n",
    "    print 'test Result : %d,  actual Result : %d' % (classifierResult, labelMat[i])\n",
    "    if classifierResult == labelMat[i]:\n",
    "        errorCount += 1.0\n",
    "print 'error rate is %f ' % (errorCount / float(numTestVecs))"
   ]
  }
 ],
 "metadata": {
  "kernelspec": {
   "display_name": "Python 2",
   "language": "python",
   "name": "python2"
  },
  "language_info": {
   "codemirror_mode": {
    "name": "ipython",
    "version": 2
   },
   "file_extension": ".py",
   "mimetype": "text/x-python",
   "name": "python",
   "nbconvert_exporter": "python",
   "pygments_lexer": "ipython2",
   "version": "2.7.8"
  }
 },
 "nbformat": 4,
 "nbformat_minor": 0
}
