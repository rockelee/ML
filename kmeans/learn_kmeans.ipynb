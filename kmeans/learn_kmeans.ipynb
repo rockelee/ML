{
 "cells": [
  {
   "cell_type": "code",
   "execution_count": 1,
   "metadata": {
    "collapsed": true
   },
   "outputs": [],
   "source": [
    "import numpy as np\n",
    "import matplotlib.pyplot as plt"
   ]
  },
  {
   "cell_type": "code",
   "execution_count": 2,
   "metadata": {
    "collapsed": true
   },
   "outputs": [],
   "source": [
    "def loadDataSet(filename):\n",
    "    dataMat = []\n",
    "    fr = open(filename)\n",
    "    for line in fr.readlines():\n",
    "        curLine = line.strip().split('\\t')\n",
    "        fltLine = map(float, curLine)\n",
    "        dataMat.append(fltLine)\n",
    "    return dataMat\n",
    "\n",
    "def distEclud(vecA, vecB):\n",
    "    return np.sqrt(sum(np.power(vecA - vecB, 2)))\n",
    "\n",
    "def randCent(dataSet, k):\n",
    "    m, n = dataSet.shape\n",
    "    centroids = np.zeros((k, n))\n",
    "    for j in range(n):\n",
    "        minJ = min(dataSet[:, j])\n",
    "        maxJ = max(dataSet[:, j])\n",
    "        rangeJ = float(maxJ - minJ)\n",
    "        centroids[:, j] = minJ + rangeJ * np.random.rand(k, 1)[:, 0]\n",
    "    return centroids\n",
    "\n",
    "def KMeans(dataMat, k, distMeas = distEclud, createCent = randCent):\n",
    "    m, n = dataMat.shape\n",
    "    clusterAssment = np.zeros((m, 2))\n",
    "    centroids = createCent(dataMat, k)\n",
    "    clusterChanged = True\n",
    "    while clusterChanged:\n",
    "        clusterChanged = False\n",
    "        for i in range(m):\n",
    "            minDist = np.inf\n",
    "            minIndex = -1\n",
    "            for j in range(k):\n",
    "                distJI = distMeas(centroids[j, :], dataMat[i, :])\n",
    "                #print distJI\n",
    "                if distJI < minDist:\n",
    "                    minDist = distJI\n",
    "                    minIndex = j\n",
    "            if clusterAssment[i, 0] != minIndex:  ##直到质心不在发生变化，等同于每个样本的类别不在发生变化\n",
    "                clusterChanged = True\n",
    "            clusterAssment[i, :] = minIndex, minDist**2\n",
    "        #print centroids\n",
    "        for cent in range(k):\n",
    "            ptsInClust = dataMat[ np.nonzero(clusterAssment[:, 0] == cent)[0] ]\n",
    "            centroids[cent, :] = np.mean(ptsInClust, axis = 0)           \n",
    "    return centroids, clusterAssment"
   ]
  },
  {
   "cell_type": "code",
   "execution_count": 3,
   "metadata": {
    "collapsed": false
   },
   "outputs": [
    {
     "data": {
      "image/png": "[encoded data removed]",
      "text/plain": [
       "<matplotlib.figure.Figure at 0x7fc1761bded0>"
      ]
     },
     "metadata": {},
     "output_type": "display_data"
    },
    {
     "data": {
      "image/png": "[encoded data removed]",
      "text/plain": [
       "<matplotlib.figure.Figure at 0x7fc17408ef90>"
      ]
     },
     "metadata": {},
     "output_type": "display_data"
    }
   ],
   "source": [
    "dataMat = loadDataSet('testSet.txt')\n",
    "dataMat = np.array(dataMat)\n",
    "plt.figure()\n",
    "x = dataMat[:, 0]\n",
    "y = dataMat[:, 1]\n",
    "plt.plot(x, y, 'o')\n",
    "plt.show()\n",
    "\n",
    "centroids, clusterAssment = KMeans(dataMat, 4)\n",
    "#print clusterAssment[clusterAssment[:, 0] == 0,:]\n",
    "x0 = dataMat[clusterAssment[:, 0] == 0, 0]\n",
    "y0 = dataMat[clusterAssment[:, 0] == 0, 1]\n",
    "x1 = dataMat[clusterAssment[:, 0] == 1, 0]\n",
    "y1 = dataMat[clusterAssment[:, 0] == 1, 1]\n",
    "x2 = dataMat[clusterAssment[:, 0] == 2, 0]\n",
    "y2 = dataMat[clusterAssment[:, 0] == 2, 1]\n",
    "x3 = dataMat[clusterAssment[:, 0] == 3, 0]\n",
    "y3 = dataMat[clusterAssment[:, 0] == 3, 1]\n",
    "plt.figure()\n",
    "plt.plot(x0, y0, 'ro')\n",
    "plt.plot(x1, y1, 'go')\n",
    "plt.plot(x2, y2, 'bo')\n",
    "plt.plot(x3, y3, 'yo')\n",
    "plt.plot(centroids[:, 0], centroids[:, 1], '+')\n",
    "plt.show()\n"
   ]
  },
  {
   "cell_type": "code",
   "execution_count": 4,
   "metadata": {
    "collapsed": true
   },
   "outputs": [],
   "source": [
    "def biKmeans(dataSet, k, distMeas = distEclud):\n",
    "    m, n = dataSet.shape\n",
    "    clusterAssment = np.zeros((m, 2))\n",
    "    centroid0 = np.mean(dataSet, axis = 0)#.tolist()\n",
    "    centList = [centroid0]\n",
    "    for j in range(m):\n",
    "        clusterAssment[j, 1] = distMeas(centroid0, dataSet[j, :]) ** 2\n",
    "    while len(centList) < k:\n",
    "        lowestSSE = np.inf\n",
    "        for i in range(len(centList)):\n",
    "            ptsInCurrCluster = dataSet[np.nonzero(clusterAssment[:, 0] == i)[0], :]\n",
    "            centroidMat, splitClustAss = KMeans(ptsInCurrCluster, 2, distMeas)\n",
    "            sseSplit = np.sum(splitClustAss[:, 1])\n",
    "            sseNotSplit = np.sum(clusterAssment[np.nonzero(clusterAssment[:, 0] != i)[0], 1])\n",
    "            #print \"sseSplit, and notSplit: \", sseSplit, sseNotSplit\n",
    "            if sseSplit + sseNotSplit < lowestSSE:   # 找使总误差平方和最小的簇，然后对其进行分裂\n",
    "                bestCentToSplit = i\n",
    "                bestNewCents = centroidMat\n",
    "                bestClustAss = splitClustAss.copy()\n",
    "                lowestSSE = sseSplit + sseNotSplit\n",
    "        bestClustAss[np.nonzero(bestClustAss[:, 0] == 1)[0], 0] = len(centList)  #对最小簇分裂后，得到的类别号要重新赋值，一个增加，一个不变\n",
    "        bestClustAss[np.nonzero(bestClustAss[:, 0] == 0)[0], 0] = bestCentToSplit\n",
    "        #print \"the bestCentToSplit is: \", bestCentToSplit\n",
    "        #print \"the len of bestClustAss is: \", len(bestClustAss)\n",
    "        centList[bestCentToSplit] = bestNewCents[0, :]\n",
    "        centList.append(bestNewCents[1, :])\n",
    "        clusterAssment[np.nonzero(clusterAssment[:,0] == bestCentToSplit)[0], :] = bestClustAss\n",
    "    return np.array(centList), clusterAssment"
   ]
  },
  {
   "cell_type": "code",
   "execution_count": 5,
   "metadata": {
    "collapsed": false,
    "scrolled": false
   },
   "outputs": [
    {
     "data": {
      "image/png": "[encoded data removed]",
      "text/plain": [
       "<matplotlib.figure.Figure at 0x7fc1aefc3f90>"
      ]
     },
     "metadata": {},
     "output_type": "display_data"
    },
    {
     "data": {
      "image/png": "[encoded data removed]",
      "text/plain": [
       "<matplotlib.figure.Figure at 0x7fc17409a7d0>"
      ]
     },
     "metadata": {},
     "output_type": "display_data"
    }
   ],
   "source": [
    "dataMat = loadDataSet('testSet2.txt')\n",
    "dataMat = np.array(dataMat)\n",
    "plt.figure()\n",
    "plt.plot(dataMat[:, 0], dataMat[:, 1], 'o')\n",
    "plt.show()\n",
    "\n",
    "centList, clusterAssment = biKmeans(dataMat, 3)\n",
    "x0 = dataMat[clusterAssment[:, 0] == 0, 0]\n",
    "y0 = dataMat[clusterAssment[:, 0] == 0, 1]\n",
    "x1 = dataMat[clusterAssment[:, 0] == 1, 0]\n",
    "y1 = dataMat[clusterAssment[:, 0] == 1, 1]\n",
    "x2 = dataMat[clusterAssment[:, 0] == 2, 0]\n",
    "y2 = dataMat[clusterAssment[:, 0] == 2, 1]\n",
    "plt.figure()\n",
    "plt.plot(x0, y0, 'ro')\n",
    "plt.plot(x1, y1, 'go')\n",
    "plt.plot(x2, y2, 'bo')\n",
    "plt.plot(centList[:, 0], centList[:, 1], '+')\n",
    "plt.show()"
   ]
  },
  {
   "cell_type": "code",
   "execution_count": null,
   "metadata": {
    "collapsed": false,
    "scrolled": false
   },
   "outputs": [],
   "source": [
    "%matplotlib notebook\n",
    "def distSLC(vecA, vecB):\n",
    "    #print vecA, vecB\n",
    "    a = np.sin(vecA[1] * np.pi / 180) * np.sin(vecB[1] * np.pi / 180)\n",
    "    b = np.cos(vecA[1] * np.pi / 180) * np.cos(vecB[1] * np.pi / 180) * np.cos(np.pi * (vecB[0] - vecA[0]) / 180)\n",
    "    return np.arccos(a + b) * 6371.0\n",
    "    \n",
    "    \n",
    "def clusterClubs(numClust = 5):\n",
    "    dataList = []\n",
    "    fr = open('places.txt')\n",
    "    for line in fr.readlines():\n",
    "        lineArr = line.strip().split('\\t')\n",
    "        dataList.append([float(lineArr[-1]), float(lineArr[-2])])\n",
    "    dataList = np.array(dataList)\n",
    "    #print dataList\n",
    "    myCentroids, clustAssing = biKmeans(dataList, numClust, distMeas = distSLC)\n",
    "    \n",
    "    fig = plt.figure()\n",
    "    rect=[0.1,0.1,0.8,0.8]\n",
    "    scatterMarkers=['s', 'o', '^', '8', 'p', 'd', 'v', 'h', '>', '<']\n",
    "    axprops = dict(xticks=[], yticks=[])\n",
    "    ax0=fig.add_axes(rect, label = 'ax0', **axprops)\n",
    "    imgP = plt.imread('Portland.png')\n",
    "    ax0.imshow(imgP)\n",
    "    ax1=fig.add_axes(rect, label='ax1', frameon=False)\n",
    "    for i in range(numClust):\n",
    "        ptsInCurrCluster = dataList[np.nonzero(clustAssing[:,0]==i)[0],:]\n",
    "        markerStyle = scatterMarkers[i % len(scatterMarkers)]\n",
    "        ax1.scatter(ptsInCurrCluster[:,0], ptsInCurrCluster[:,1], marker=markerStyle, s=90)\n",
    "    ax1.scatter(myCentroids[:,0], myCentroids[:,1], marker='+', s=300)\n",
    "    plt.show()\n",
    "\n",
    "clusterClubs()\n"
   ]
  },
  {
   "cell_type": "code",
   "execution_count": null,
   "metadata": {
    "collapsed": false
   },
   "outputs": [],
   "source": [
    "a.tolist()"
   ]
  },
  {
   "cell_type": "code",
   "execution_count": null,
   "metadata": {
    "collapsed": false
   },
   "outputs": [],
   "source": [
    "a = np.min(dataMat[:,0])"
   ]
  },
  {
   "cell_type": "code",
   "execution_count": null,
   "metadata": {
    "collapsed": false
   },
   "outputs": [],
   "source": [
    "sum(np.power(np.array([2,3]),2))"
   ]
  },
  {
   "cell_type": "code",
   "execution_count": null,
   "metadata": {
    "collapsed": false
   },
   "outputs": [],
   "source": [
    "a = np.random.rand(10,1)\n",
    "b = a + 1"
   ]
  },
  {
   "cell_type": "code",
   "execution_count": null,
   "metadata": {
    "collapsed": true
   },
   "outputs": [],
   "source": []
  },
  {
   "cell_type": "code",
   "execution_count": null,
   "metadata": {
    "collapsed": true
   },
   "outputs": [],
   "source": []
  }
 ],
 "metadata": {
  "anaconda-cloud": {},
  "kernelspec": {
   "display_name": "Python [default]",
   "language": "python",
   "name": "python2"
  },
  "language_info": {
   "codemirror_mode": {
    "name": "ipython",
    "version": 2
   },
   "file_extension": ".py",
   "mimetype": "text/x-python",
   "name": "python",
   "nbconvert_exporter": "python",
   "pygments_lexer": "ipython2",
   "version": "2.7.13"
  }
 },
 "nbformat": 4,
 "nbformat_minor": 0
}
