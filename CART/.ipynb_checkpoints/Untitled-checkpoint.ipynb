{
 "cells": [
  {
   "cell_type": "code",
   "execution_count": 1,
   "metadata": {
    "collapsed": true
   },
   "outputs": [],
   "source": [
    "%matplotlib inline\n",
    "import numpy as np\n",
    "import pandas as pd\n",
    "import matplotlib.pyplot as plt\n",
    "import csv"
   ]
  },
  {
   "cell_type": "code",
   "execution_count": 15,
   "metadata": {
    "collapsed": true
   },
   "outputs": [],
   "source": [
    "#######################################################\n",
    "# my cart"
   ]
  },
  {
   "cell_type": "code",
   "execution_count": 16,
   "metadata": {
    "collapsed": true
   },
   "outputs": [],
   "source": [
    "x=np.array([  \n",
    "[0,0,0,0,8],  \n",
    "[0,0,0,1,3.5],  \n",
    "[0,1,0,1,3.5],  \n",
    "[0,1,1,0,3.5],  \n",
    "[0,0,0,0,3.5],  \n",
    "[1,0,0,0,3.5],  \n",
    "[1,0,0,1,3.5],  \n",
    "[1,1,1,1,2],  \n",
    "[1,0,1,2,3.5],  \n",
    "[1,0,1,2,3.5],  \n",
    "[2,0,1,2,3.5],  \n",
    "[2,0,1,1,3.5],  \n",
    "[2,1,0,1,3.5],  \n",
    "[2,1,0,2,3.5],  \n",
    "[2,0,0,0,10],  \n",
    "]);\n",
    "\n",
    "y = np.array([  \n",
    "[1],  \n",
    "[0],  \n",
    "[1],  \n",
    "[1],  \n",
    "[0],  \n",
    "[0],  \n",
    "[0],  \n",
    "[1],  \n",
    "[1],  \n",
    "[1],  \n",
    "[1],  \n",
    "[1],  \n",
    "[1],  \n",
    "[1],  \n",
    "[1],  \n",
    "]) "
   ]
  },
  {
   "cell_type": "code",
   "execution_count": 17,
   "metadata": {
    "collapsed": true
   },
   "outputs": [],
   "source": [
    "class CartTree(object):\n",
    "    def __init__(self, min_num_leafnode = 1, min_gini = 0.05):\n",
    "#         assert xtrain.shape[0] == ytrain.shape[0]\n",
    "        self.min_num_leafnode = min_num_leafnode\n",
    "        self.min_gini = min_gini\n",
    "        pass\n",
    "    \n",
    "    def train(self, xtrain, ytrain):\n",
    "        self.tree = self.maketree(xtrain, ytrain)\n",
    "            \n",
    "    def gini(self, ytrain):\n",
    "        uni_y = np.unique(ytrain)\n",
    "        gn = 1.0\n",
    "        for i in uni_y:\n",
    "            num_i = ytrain[ytrain == i].shape[0] * 1.0 / ytrain.shape[0]\n",
    "            gn = gn - num_i *  num_i\n",
    "        return gn\n",
    "    \n",
    "    def node_class(self, ytrain):\n",
    "        most = -np.inf\n",
    "        most_label = -np.inf\n",
    "        uni_y = np.unique(ytrain)\n",
    "        for l in uni_y:\n",
    "            num_l = ytrain[ytrain == l].shape[0]\n",
    "            if num_l > most:\n",
    "                most = num_l\n",
    "                most_label = l\n",
    "        return most_label\n",
    "        pass\n",
    "    \n",
    "    def split_sample(self, feat, val, xtrain, ytrain):\n",
    "        left_x  = xtrain[xtrain[:, feat] <= val]\n",
    "        left_y  = ytrain[xtrain[:, feat] <= val]\n",
    "        right_x = xtrain[xtrain[:, feat] >  val]\n",
    "        right_y = ytrain[xtrain[:, feat] >  val]\n",
    "        return left_x, left_y, right_x, right_y\n",
    "    \n",
    "    def choose_feat_val(self, xtrain, ytrain):\n",
    "        m,n = xtrain.shape\n",
    "        bestFeat = None\n",
    "        bestVal = None\n",
    "        best_gini = np.inf\n",
    "        for featIndex in range(n):\n",
    "            uni_i_x = np.unique(xtrain[:, featIndex])\n",
    "            for sptval in uni_i_x:\n",
    "                left_x, left_y, right_x, right_y = self.split_sample(featIndex, sptval, xtrain, ytrain)\n",
    "                left_gini  = self.gini(left_y)\n",
    "                right_gini = self.gini(right_y)\n",
    "                sum_gini = left_y.shape[0] * 1.0 / ytrain.shape[0] *  left_gini + \\\n",
    "                          right_y.shape[0] * 1.0 / ytrain.shape[0] * right_gini\n",
    "                if sum_gini < best_gini:\n",
    "                    best_gini = sum_gini\n",
    "                    bestFeat = featIndex\n",
    "                    bestVal = sptval\n",
    "        return bestFeat, bestVal\n",
    "    \n",
    "    def maketree(self, xtrain, ytrain):\n",
    "        tree = {}\n",
    "        tree['gini'] = self.gini(ytrain)\n",
    "        print tree['gini']\n",
    "        tree['class'] = self.node_class(ytrain)\n",
    "        print tree['class']\n",
    "        if tree['gini'] < self.min_gini or xtrain.shape[0] < self.min_num_leafnode: #如果节点的样本数量或者gini指数小于阈值，则不再进行分裂\n",
    "            print 'if'\n",
    "            tree['feat_split'] = None                                                     #不再进行分裂，则表示feat，val，left，right都为None\n",
    "            tree['feat_val'] = None\n",
    "            tree['left']  = None\n",
    "            tree['right'] = None\n",
    "        else:\n",
    "            print 'else'\n",
    "            feat, val = self.choose_feat_val(xtrain, ytrain)\n",
    "#             print 'feat, vla', feat, val\n",
    "            tree['feat_split'] = feat\n",
    "            tree['feat_val']  = val\n",
    "            left_x, left_y, right_x, right_y = self.split_sample(feat, val, xtrain, ytrain)\n",
    "#             print np.c_[left_x, left_y]\n",
    "#             print np.c_[right_x, right_y]\n",
    "            tree['left']  = self.maketree(left_x , left_y )\n",
    "            tree['right'] = self.maketree(right_x, right_y)\n",
    "        return tree\n",
    "\n",
    "    def pred(self, xtest):\n",
    "        return self.predict(xtest, self.tree)\n",
    "    \n",
    "    def predict(self, xtest, tree):\n",
    "        if tree['left'] == None and tree['right'] == None:\n",
    "            return tree['class']\n",
    "        else:\n",
    "            if xtest[tree['feat_split']] <= tree['feat_val']:\n",
    "                return self.predict(xtest, tree['left'])\n",
    "            elif xtest[tree['feat_split']] > tree['feat_val']:\n",
    "                return self.predict(xtest, tree['right'])\n",
    "            "
   ]
  },
  {
   "cell_type": "code",
   "execution_count": 18,
   "metadata": {
    "collapsed": false,
    "scrolled": true
   },
   "outputs": [
    {
     "name": "stdout",
     "output_type": "stream",
     "text": [
      "0.391111111111\n",
      "1\n",
      "else\n",
      "0.493827160494\n",
      "1\n",
      "else\n",
      "0.444444444444\n",
      "0\n",
      "else\n",
      "0.32\n",
      "0\n",
      "else\n",
      "0.0\n",
      "0\n",
      "if\n",
      "0.0\n",
      "1\n",
      "if\n",
      "0.0\n",
      "1\n",
      "if\n",
      "0.0\n",
      "1\n",
      "if\n",
      "0.0\n",
      "1\n",
      "if\n"
     ]
    }
   ],
   "source": [
    "clf = CartTree(1, 0.1)\n",
    "clf.train(x, y)"
   ]
  },
  {
   "cell_type": "code",
   "execution_count": 19,
   "metadata": {
    "collapsed": false,
    "scrolled": false
   },
   "outputs": [
    {
     "data": {
      "text/plain": [
       "{'class': 1,\n",
       " 'feat_split': 2,\n",
       " 'feat_val': 0.0,\n",
       " 'gini': 0.3911111111111112,\n",
       " 'left': {'class': 1,\n",
       "  'feat_split': 0,\n",
       "  'feat_val': 1.0,\n",
       "  'gini': 0.49382716049382713,\n",
       "  'left': {'class': 0,\n",
       "   'feat_split': 1,\n",
       "   'feat_val': 0.0,\n",
       "   'gini': 0.4444444444444445,\n",
       "   'left': {'class': 0,\n",
       "    'feat_split': 4,\n",
       "    'feat_val': 3.5,\n",
       "    'gini': 0.31999999999999984,\n",
       "    'left': {'class': 0,\n",
       "     'feat_split': None,\n",
       "     'feat_val': None,\n",
       "     'gini': 0.0,\n",
       "     'left': None,\n",
       "     'right': None},\n",
       "    'right': {'class': 1,\n",
       "     'feat_split': None,\n",
       "     'feat_val': None,\n",
       "     'gini': 0.0,\n",
       "     'left': None,\n",
       "     'right': None}},\n",
       "   'right': {'class': 1,\n",
       "    'feat_split': None,\n",
       "    'feat_val': None,\n",
       "    'gini': 0.0,\n",
       "    'left': None,\n",
       "    'right': None}},\n",
       "  'right': {'class': 1,\n",
       "   'feat_split': None,\n",
       "   'feat_val': None,\n",
       "   'gini': 0.0,\n",
       "   'left': None,\n",
       "   'right': None}},\n",
       " 'right': {'class': 1,\n",
       "  'feat_split': None,\n",
       "  'feat_val': None,\n",
       "  'gini': 0.0,\n",
       "  'left': None,\n",
       "  'right': None}}"
      ]
     },
     "execution_count": 19,
     "metadata": {},
     "output_type": "execute_result"
    }
   ],
   "source": [
    "clf.tree"
   ]
  },
  {
   "cell_type": "code",
   "execution_count": 20,
   "metadata": {
    "collapsed": false
   },
   "outputs": [
    {
     "name": "stdout",
     "output_type": "stream",
     "text": [
      "[ 0.  0.  0.  0.  8.] [1] 1\n",
      "[ 0.   0.   0.   1.   3.5] [0] 0\n",
      "[ 0.   1.   0.   1.   3.5] [1] 1\n",
      "[ 0.   1.   1.   0.   3.5] [1] 1\n",
      "[ 0.   0.   0.   0.   3.5] [0] 0\n",
      "[ 1.   0.   0.   0.   3.5] [0] 0\n",
      "[ 1.   0.   0.   1.   3.5] [0] 0\n",
      "[ 1.  1.  1.  1.  2.] [1] 1\n",
      "[ 1.   0.   1.   2.   3.5] [1] 1\n",
      "[ 1.   0.   1.   2.   3.5] [1] 1\n",
      "[ 2.   0.   1.   2.   3.5] [1] 1\n",
      "[ 2.   0.   1.   1.   3.5] [1] 1\n",
      "[ 2.   1.   0.   1.   3.5] [1] 1\n",
      "[ 2.   1.   0.   2.   3.5] [1] 1\n",
      "[  2.   0.   0.   0.  10.] [1] 1\n"
     ]
    }
   ],
   "source": [
    "for i,j in zip(x, y):\n",
    "    print i,j, clf.pred(i)"
   ]
  },
  {
   "cell_type": "code",
   "execution_count": 21,
   "metadata": {
    "collapsed": false
   },
   "outputs": [
    {
     "name": "stdout",
     "output_type": "stream",
     "text": [
      "[ 0.  0.  0.  0.  8.] [1] [1]\n",
      "[ 0.   0.   0.   1.   3.5] [0] [0]\n",
      "[ 0.   1.   0.   1.   3.5] [1] [1]\n",
      "[ 0.   1.   1.   0.   3.5] [1] [1]\n",
      "[ 0.   0.   0.   0.   3.5] [0] [0]\n",
      "[ 1.   0.   0.   0.   3.5] [0] [0]\n",
      "[ 1.   0.   0.   1.   3.5] [0] [0]\n",
      "[ 1.  1.  1.  1.  2.] [1] [1]\n",
      "[ 1.   0.   1.   2.   3.5] [1] [1]\n",
      "[ 1.   0.   1.   2.   3.5] [1] [1]\n",
      "[ 2.   0.   1.   2.   3.5] [1] [1]\n",
      "[ 2.   0.   1.   1.   3.5] [1] [1]\n",
      "[ 2.   1.   0.   1.   3.5] [1] [1]\n",
      "[ 2.   1.   0.   2.   3.5] [1] [1]\n",
      "[  2.   0.   0.   0.  10.] [1] [1]\n"
     ]
    },
    {
     "name": "stderr",
     "output_type": "stream",
     "text": [
      "/home/lilinhan/workspace/software/anaconda/lib/python2.7/site-packages/sklearn/utils/validation.py:395: DeprecationWarning: Passing 1d arrays as data is deprecated in 0.17 and will raise ValueError in 0.19. Reshape your data either using X.reshape(-1, 1) if your data has a single feature or X.reshape(1, -1) if it contains a single sample.\n",
      "  DeprecationWarning)\n",
      "/home/lilinhan/workspace/software/anaconda/lib/python2.7/site-packages/sklearn/utils/validation.py:395: DeprecationWarning: Passing 1d arrays as data is deprecated in 0.17 and will raise ValueError in 0.19. Reshape your data either using X.reshape(-1, 1) if your data has a single feature or X.reshape(1, -1) if it contains a single sample.\n",
      "  DeprecationWarning)\n",
      "/home/lilinhan/workspace/software/anaconda/lib/python2.7/site-packages/sklearn/utils/validation.py:395: DeprecationWarning: Passing 1d arrays as data is deprecated in 0.17 and will raise ValueError in 0.19. Reshape your data either using X.reshape(-1, 1) if your data has a single feature or X.reshape(1, -1) if it contains a single sample.\n",
      "  DeprecationWarning)\n",
      "/home/lilinhan/workspace/software/anaconda/lib/python2.7/site-packages/sklearn/utils/validation.py:395: DeprecationWarning: Passing 1d arrays as data is deprecated in 0.17 and will raise ValueError in 0.19. Reshape your data either using X.reshape(-1, 1) if your data has a single feature or X.reshape(1, -1) if it contains a single sample.\n",
      "  DeprecationWarning)\n",
      "/home/lilinhan/workspace/software/anaconda/lib/python2.7/site-packages/sklearn/utils/validation.py:395: DeprecationWarning: Passing 1d arrays as data is deprecated in 0.17 and will raise ValueError in 0.19. Reshape your data either using X.reshape(-1, 1) if your data has a single feature or X.reshape(1, -1) if it contains a single sample.\n",
      "  DeprecationWarning)\n",
      "/home/lilinhan/workspace/software/anaconda/lib/python2.7/site-packages/sklearn/utils/validation.py:395: DeprecationWarning: Passing 1d arrays as data is deprecated in 0.17 and will raise ValueError in 0.19. Reshape your data either using X.reshape(-1, 1) if your data has a single feature or X.reshape(1, -1) if it contains a single sample.\n",
      "  DeprecationWarning)\n",
      "/home/lilinhan/workspace/software/anaconda/lib/python2.7/site-packages/sklearn/utils/validation.py:395: DeprecationWarning: Passing 1d arrays as data is deprecated in 0.17 and will raise ValueError in 0.19. Reshape your data either using X.reshape(-1, 1) if your data has a single feature or X.reshape(1, -1) if it contains a single sample.\n",
      "  DeprecationWarning)\n",
      "/home/lilinhan/workspace/software/anaconda/lib/python2.7/site-packages/sklearn/utils/validation.py:395: DeprecationWarning: Passing 1d arrays as data is deprecated in 0.17 and will raise ValueError in 0.19. Reshape your data either using X.reshape(-1, 1) if your data has a single feature or X.reshape(1, -1) if it contains a single sample.\n",
      "  DeprecationWarning)\n",
      "/home/lilinhan/workspace/software/anaconda/lib/python2.7/site-packages/sklearn/utils/validation.py:395: DeprecationWarning: Passing 1d arrays as data is deprecated in 0.17 and will raise ValueError in 0.19. Reshape your data either using X.reshape(-1, 1) if your data has a single feature or X.reshape(1, -1) if it contains a single sample.\n",
      "  DeprecationWarning)\n",
      "/home/lilinhan/workspace/software/anaconda/lib/python2.7/site-packages/sklearn/utils/validation.py:395: DeprecationWarning: Passing 1d arrays as data is deprecated in 0.17 and will raise ValueError in 0.19. Reshape your data either using X.reshape(-1, 1) if your data has a single feature or X.reshape(1, -1) if it contains a single sample.\n",
      "  DeprecationWarning)\n",
      "/home/lilinhan/workspace/software/anaconda/lib/python2.7/site-packages/sklearn/utils/validation.py:395: DeprecationWarning: Passing 1d arrays as data is deprecated in 0.17 and will raise ValueError in 0.19. Reshape your data either using X.reshape(-1, 1) if your data has a single feature or X.reshape(1, -1) if it contains a single sample.\n",
      "  DeprecationWarning)\n",
      "/home/lilinhan/workspace/software/anaconda/lib/python2.7/site-packages/sklearn/utils/validation.py:395: DeprecationWarning: Passing 1d arrays as data is deprecated in 0.17 and will raise ValueError in 0.19. Reshape your data either using X.reshape(-1, 1) if your data has a single feature or X.reshape(1, -1) if it contains a single sample.\n",
      "  DeprecationWarning)\n",
      "/home/lilinhan/workspace/software/anaconda/lib/python2.7/site-packages/sklearn/utils/validation.py:395: DeprecationWarning: Passing 1d arrays as data is deprecated in 0.17 and will raise ValueError in 0.19. Reshape your data either using X.reshape(-1, 1) if your data has a single feature or X.reshape(1, -1) if it contains a single sample.\n",
      "  DeprecationWarning)\n",
      "/home/lilinhan/workspace/software/anaconda/lib/python2.7/site-packages/sklearn/utils/validation.py:395: DeprecationWarning: Passing 1d arrays as data is deprecated in 0.17 and will raise ValueError in 0.19. Reshape your data either using X.reshape(-1, 1) if your data has a single feature or X.reshape(1, -1) if it contains a single sample.\n",
      "  DeprecationWarning)\n",
      "/home/lilinhan/workspace/software/anaconda/lib/python2.7/site-packages/sklearn/utils/validation.py:395: DeprecationWarning: Passing 1d arrays as data is deprecated in 0.17 and will raise ValueError in 0.19. Reshape your data either using X.reshape(-1, 1) if your data has a single feature or X.reshape(1, -1) if it contains a single sample.\n",
      "  DeprecationWarning)\n"
     ]
    }
   ],
   "source": [
    "from sklearn.tree import DecisionTreeClassifier,export_graphviz\n",
    "from IPython.display import Image\n",
    "import pydotplus\n",
    "skl_clf = DecisionTreeClassifier()\n",
    "skl_clf = skl_clf.fit(x,y)\n",
    "dot_data = export_graphviz(skl_clf, out_file=None) \n",
    "graph = pydotplus.graph_from_dot_data(dot_data) \n",
    "graph.write_pdf(\"my.pdf\") \n",
    "for i,j in zip(x,y):\n",
    "    print i,j, skl_clf.predict(i)"
   ]
  },
  {
   "cell_type": "code",
   "execution_count": 14,
   "metadata": {
    "collapsed": true
   },
   "outputs": [],
   "source": [
    "#######################################################"
   ]
  },
  {
   "cell_type": "code",
   "execution_count": 2,
   "metadata": {
    "collapsed": true
   },
   "outputs": [],
   "source": [
    "def loadData(fileName):\n",
    "    with open(fileName, 'r') as f:\n",
    "        data_file = csv.reader(f)\n",
    "        train = [i[0].split('\\t') for i in data_file]\n",
    "        return np.array(train, dtype = 'float64')"
   ]
  },
  {
   "cell_type": "code",
   "execution_count": 3,
   "metadata": {
    "collapsed": false
   },
   "outputs": [],
   "source": [
    "train = loadData('ex0.txt')"
   ]
  },
  {
   "cell_type": "code",
   "execution_count": 4,
   "metadata": {
    "collapsed": false,
    "scrolled": true
   },
   "outputs": [
    {
     "data": {
      "text/plain": [
       "<matplotlib.collections.PathCollection at 0x7fbc500eead0>"
      ]
     },
     "execution_count": 4,
     "metadata": {},
     "output_type": "execute_result"
    },
    {
     "data": {
      "image/png": "[encoded data removed]",
      "text/plain": [
       "<matplotlib.figure.Figure at 0x7fbc52897f10>"
      ]
     },
     "metadata": {},
     "output_type": "display_data"
    }
   ],
   "source": [
    "fig = plt.figure(figsize = (4, 3))\n",
    "ax1 = fig.add_axes([0,0,1,1])\n",
    "ax1.scatter(train[:, 1], train[:, -1])"
   ]
  },
  {
   "cell_type": "code",
   "execution_count": 5,
   "metadata": {
    "collapsed": true
   },
   "outputs": [],
   "source": [
    "def loadDataSet(fileName):      #general function to parse tab -delimited floats\n",
    "    dataMat = []                #assume last column is target value\n",
    "    fr = open(fileName)\n",
    "    for line in fr.readlines():\n",
    "        curLine = line.strip().split('\\t')\n",
    "        fltLine = map(float,curLine) #map all elements to float()\n",
    "        dataMat.append(fltLine)\n",
    "    return dataMat\n",
    "\n",
    "def binSplitDataSet(dataSet, feature, value):\n",
    "#     mat0 = dataSet[nonzero(dataSet[:,feature] > value)[0],:][0]\n",
    "#     mat1 = dataSet[nonzero(dataSet[:,feature] <= value)[0],:][0]\n",
    "    mat0 = dataSet[dataSet[:, feature] > value]\n",
    "    mat1 = dataSet[dataSet[:, feature] <= value]\n",
    "    return mat0,mat1\n",
    "\n",
    "def regLeaf(dataSet):#returns the value used for each leaf\n",
    "#     return mean(dataSet[:,-1])\n",
    "    return np.mean(dataSet[:, -1])\n",
    "\n",
    "def regErr(dataSet):\n",
    "#     return var(dataSet[:,-1]) * shape(dataSet)[0]\n",
    "    return np.var(dataSet[:, -1]) * dataSet.shape[0]\n",
    "\n",
    "def linearSolve(dataSet):   #helper function used in two places\n",
    "    m,n = shape(dataSet)\n",
    "    X = mat(ones((m,n))); Y = mat(ones((m,1)))#create a copy of data with 1 in 0th postion\n",
    "    X[:,1:n] = dataSet[:,0:n-1]; Y = dataSet[:,-1]#and strip out Y\n",
    "    xTx = X.T*X\n",
    "    if linalg.det(xTx) == 0.0:\n",
    "        raise NameError('This matrix is singular, cannot do inverse,\\n\\\n",
    "        try increasing the second value of ops')\n",
    "    ws = xTx.I * (X.T * Y)\n",
    "    return ws,X,Y\n",
    "\n",
    "def modelLeaf(dataSet):#create linear model and return coeficients\n",
    "    ws,X,Y = linearSolve(dataSet)\n",
    "    return ws\n",
    "\n",
    "def modelErr(dataSet):\n",
    "    ws,X,Y = linearSolve(dataSet)\n",
    "    yHat = X * ws\n",
    "    return sum(power(Y - yHat,2))\n",
    "\n",
    "def chooseBestSplit(dataSet, leafType=regLeaf, errType=regErr, ops=(1,4)):\n",
    "    tolS = ops[0]; tolN = ops[1]\n",
    "    #if all the target variables are the same value: quit and return value\n",
    "#     if len(set(dataSet[:,-1].T.tolist()[0])) == 1: #exit cond 1\n",
    "    if np.unique(dataSet[:, -1]).shape[0] == 1:\n",
    "        return None, leafType(dataSet)\n",
    "#     m,n = shape(dataSet)\n",
    "    m, n = dataSet.shape\n",
    "    #the choice of the best feature is driven by Reduction in RSS error from mean\n",
    "    S = errType(dataSet)\n",
    "    bestS = np.inf; bestIndex = 0; bestValue = 0\n",
    "    for featIndex in range(n-1):\n",
    "#         for splitVal in set(dataSet[:,featIndex]):\n",
    "        for splitVal in np.unique(dataSet[:, featIndex]):\n",
    "            mat0, mat1 = binSplitDataSet(dataSet, featIndex, splitVal)\n",
    "#             if (shape(mat0)[0] < tolN) or (shape(mat1)[0] < tolN): \n",
    "            if mat0.shape[0] < tolN or mat1.shape[0] < tolN:\n",
    "                continue\n",
    "            newS = errType(mat0) + errType(mat1)\n",
    "            if newS < bestS: \n",
    "                bestIndex = featIndex\n",
    "                bestValue = splitVal\n",
    "                bestS = newS\n",
    "    #if the decrease (S-bestS) is less than a threshold don't do the split\n",
    "    if (S - bestS) < tolS: \n",
    "        return None, leafType(dataSet) #exit cond 2\n",
    "    mat0, mat1 = binSplitDataSet(dataSet, bestIndex, bestValue)\n",
    "#     if (shape(mat0)[0] < tolN) or (shape(mat1)[0] < tolN):  #exit cond 3\n",
    "    if mat0.shape[0] < tolN or mat1.shape[0] < tolN:\n",
    "        return None, leafType(dataSet)\n",
    "    return bestIndex,bestValue#returns the best feature to split on\n",
    "                              #and the value used for that split\n",
    "\n",
    "def createTree(dataSet, leafType=regLeaf, errType=regErr, ops=(1,4)):#assume dataSet is NumPy Mat so we can array filtering\n",
    "    feat, val = chooseBestSplit(dataSet, leafType, errType, ops)#choose the best split\n",
    "    if feat == None: return val #if the splitting hit a stop condition return val\n",
    "    retTree = {}\n",
    "    retTree['spInd'] = feat\n",
    "    retTree['spVal'] = val\n",
    "    lSet, rSet = binSplitDataSet(dataSet, feat, val)\n",
    "    retTree['left'] = createTree(lSet, leafType, errType, ops)\n",
    "    retTree['right'] = createTree(rSet, leafType, errType, ops)\n",
    "    return retTree  "
   ]
  },
  {
   "cell_type": "code",
   "execution_count": 6,
   "metadata": {
    "collapsed": true
   },
   "outputs": [],
   "source": [
    "def predict(x, tree):\n",
    "    if not isinstance(tree, dict):\n",
    "        return tree\n",
    "    if x[tree['spInd']] < tree['spVal']:\n",
    "        return predict(x, tree['right'])\n",
    "    else:\n",
    "        return predict(x, tree['left'])"
   ]
  },
  {
   "cell_type": "code",
   "execution_count": 11,
   "metadata": {
    "collapsed": false
   },
   "outputs": [],
   "source": [
    "tree = createTree(train, ops = (1,4))"
   ]
  },
  {
   "cell_type": "code",
   "execution_count": 12,
   "metadata": {
    "collapsed": false
   },
   "outputs": [
    {
     "data": {
      "text/plain": [
       "{'left': {'left': {'left': 3.9871631999999999,\n",
       "   'right': 2.9836209534883724,\n",
       "   'spInd': 1,\n",
       "   'spVal': 0.79758300000000004},\n",
       "  'right': 1.980035071428571,\n",
       "  'spInd': 1,\n",
       "  'spVal': 0.58200200000000002},\n",
       " 'right': {'left': 1.0289583666666666,\n",
       "  'right': -0.023838155555555553,\n",
       "  'spInd': 1,\n",
       "  'spVal': 0.19783400000000001},\n",
       " 'spInd': 1,\n",
       " 'spVal': 0.39434999999999998}"
      ]
     },
     "execution_count": 12,
     "metadata": {},
     "output_type": "execute_result"
    }
   ],
   "source": [
    "tree"
   ]
  },
  {
   "cell_type": "code",
   "execution_count": 41,
   "metadata": {
    "collapsed": false
   },
   "outputs": [
    {
     "name": "stdout",
     "output_type": "stream",
     "text": [
      "199\n"
     ]
    },
    {
     "data": {
      "text/plain": [
       "<matplotlib.collections.PathCollection at 0xb25ac50>"
      ]
     },
     "execution_count": 41,
     "metadata": {},
     "output_type": "execute_result"
    },
    {
     "data": {
      "image/png": "[encoded data removed]",
      "text/plain": [
       "<matplotlib.figure.Figure at 0xb1c2e10>"
      ]
     },
     "metadata": {},
     "output_type": "display_data"
    }
   ],
   "source": [
    "test = []\n",
    "for i in range(train.shape[0]):\n",
    "    test.append(predict(train[i,:], tree))\n",
    "print(len(set(test)))\n",
    "fig = plt.figure(figsize = (4,3))\n",
    "ax = fig.add_axes([0,0,1,1])\n",
    "ax.scatter(train[:,1], test,  color = 'r')\n",
    "ax.scatter(train[:,1], train[:, -1])"
   ]
  },
  {
   "cell_type": "code",
   "execution_count": null,
   "metadata": {
    "collapsed": true
   },
   "outputs": [],
   "source": []
  }
 ],
 "metadata": {
  "anaconda-cloud": {},
  "kernelspec": {
   "display_name": "Python 2",
   "language": "python",
   "name": "python2"
  },
  "language_info": {
   "codemirror_mode": {
    "name": "ipython",
    "version": 2
   },
   "file_extension": ".py",
   "mimetype": "text/x-python",
   "name": "python",
   "nbconvert_exporter": "python",
   "pygments_lexer": "ipython2",
   "version": "2.7.12"
  }
 },
 "nbformat": 4,
 "nbformat_minor": 1
}
