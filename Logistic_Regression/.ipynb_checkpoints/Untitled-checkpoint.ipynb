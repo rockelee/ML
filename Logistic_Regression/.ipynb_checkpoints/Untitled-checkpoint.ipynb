{
 "cells": [
  {
   "cell_type": "code",
   "execution_count": 6,
   "metadata": {
    "collapsed": true
   },
   "outputs": [],
   "source": [
    "import math\n",
    "import numpy as np"
   ]
  },
  {
   "cell_type": "code",
   "execution_count": 7,
   "metadata": {
    "collapsed": true
   },
   "outputs": [],
   "source": [
    "class LinearRegression(object):\n",
    "    def __init__(self):\n",
    "        self.w = None\n",
    "        pass\n",
    "    \n",
    "    def train(self, X, y, learning_rate=1e-3, reg=0, num_epochs=100, batch_size=10):\n",
    "        num_train, n_features = X.shape\n",
    "        num_classes = np.max(y)+1\n",
    "        self.w = 0.001 * np.random.randn(dim, num_classes)\n",
    "        num_iter_per_epoch = int(math.ceil(num_train * 1. / batch_size))\n",
    "        loss_history = []\n",
    "        for i in range(num_epochs):\n",
    "            for j in range(num_iter_per_epoch):\n",
    "                x_batch = None\n",
    "                y_batch = None\n",
    "                indices = np.random.choice(m, batch_size, replace=True)\n",
    "                x_batch = X[indices]\n",
    "                y_batch = y[indices]\n",
    "                loss, grad = self.loss(x_batch, y_batch, reg)\n",
    "                loss_history.append(loss)\n",
    "                self.update(grad)\n",
    "        return loss_history\n",
    "    \n",
    "    def predict(self, X):\n",
    "        pass\n",
    "    \n",
    "    def loss(self, x_batch, y_batch, reg):\n",
    "        return loss, grad\n",
    "    \n",
    "    def update(self, grad):\n",
    "        return"
   ]
  },
  {
   "cell_type": "code",
   "execution_count": 5,
   "metadata": {
    "collapsed": false
   },
   "outputs": [],
   "source": [
    "training_param = {\"learning_rate\": 1e-3,\n",
    "                  \"batch_size\": 10,\n",
    "                  \"num_epochs\": 100,\n",
    "                  \"reg\": 0}"
   ]
  }
 ],
 "metadata": {
  "kernelspec": {
   "display_name": "Python [conda env:tensorflow]",
   "language": "python",
   "name": "conda-env-tensorflow-py"
  },
  "language_info": {
   "codemirror_mode": {
    "name": "ipython",
    "version": 2
   },
   "file_extension": ".py",
   "mimetype": "text/x-python",
   "name": "python",
   "nbconvert_exporter": "python",
   "pygments_lexer": "ipython2",
   "version": "2.7.13"
  }
 },
 "nbformat": 4,
 "nbformat_minor": 2
}
